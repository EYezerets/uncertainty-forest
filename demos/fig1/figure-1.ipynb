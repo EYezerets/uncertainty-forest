{
 "cells": [
  {
   "cell_type": "code",
   "execution_count": null,
   "metadata": {},
   "outputs": [],
   "source": [
    "import numpy as np\n",
    "import seaborn as sns\n",
    "import matplotlib.pyplot as plt\n",
    "import pickle\n",
    "\n",
    "from uncertainty_forest.uncertainty_forest import UncertaintyForest\n",
    "from sklearn.ensemble import RandomForestClassifier\n",
    "from sklearn.calibration import CalibratedClassifierCV\n",
    "from tqdm.notebook import tqdm\n",
    "from joblib import Parallel, delayed"
   ]
  },
  {
   "cell_type": "code",
   "execution_count": null,
   "metadata": {},
   "outputs": [],
   "source": [
    "def generate_data(n, mean, var):\n",
    "    y = 2 * np.random.binomial(1, .5, n) - 1 # classes are -1 and 1.\n",
    "    X = np.random.multivariate_normal(mean * y, var * np.eye(n), 1).T\n",
    "    return X, y"
   ]
  },
  {
   "cell_type": "code",
   "execution_count": null,
   "metadata": {},
   "outputs": [],
   "source": [
    "# Estimate posteriors for many trials and evaluate in the given X_eval range.\n",
    "def estimate_posterior(algo, n, mean, var, num_trials, X_eval, parallel = False):\n",
    "    obj = algo['instance']\n",
    "    def worker(t):\n",
    "        X, y = generate_data(n, mean, var)\n",
    "        obj.fit(X, y)\n",
    "        class_1_index = np.argwhere(obj.classes_.ravel() == 1)[0][0]\n",
    "        return obj.predict_proba(X_eval)[:, class_1_index]\n",
    "        \n",
    "    if parallel:\n",
    "        predicted_posterior = np.array(Parallel(n_jobs=-2)(delayed(worker)(t) for t in range(num_trials)))\n",
    "    else:\n",
    "        predicted_posterior = np.zeros((num_trials, X_eval.shape[0]))\n",
    "        for t in tqdm(range(num_trials)):\n",
    "            predicted_posterior[t, :] = worker(t)\n",
    "\n",
    "    return predicted_posterior"
   ]
  },
  {
   "cell_type": "code",
   "execution_count": null,
   "metadata": {},
   "outputs": [],
   "source": [
    "# For either a CART, Honest, or Uncertainty Forest, plot P(Y = 1 | X = x).\n",
    "def plot_posterior(ax, algo, num_plotted_trials, X_eval):\n",
    "    # Plot each of num_plotted_trials iterations, highlighting a single line.\n",
    "    for i in range(num_plotted_trials):\n",
    "        linewidth = 1\n",
    "        opacity = .3\n",
    "        if i == num_plotted_trials - 1:\n",
    "            opacity = 1\n",
    "            linewidth = 8\n",
    "        ax.set_title(algo['title'])\n",
    "        ax.plot(X_eval.flatten().ravel(), algo['predicted_posterior'][i, :].ravel(), \n",
    "                label = algo['label'],\n",
    "                linewidth = linewidth, \n",
    "                color = algo['color'], \n",
    "                alpha = opacity)\n",
    "\n",
    "# Plot the variance over the number of trials.\n",
    "def plot_variance(ax, algos, X_eval):\n",
    "    ax.set_title('Posterior Variance')\n",
    "    for algo in algos:\n",
    "        variance = np.var(algo['predicted_posterior'], axis = 0)\n",
    "        ax.plot(X_eval.flatten().ravel(), variance.ravel(), \n",
    "                label = algo['label'],\n",
    "                linewidth = 8, \n",
    "                color = algo['color'])"
   ]
  },
  {
   "cell_type": "code",
   "execution_count": null,
   "metadata": {},
   "outputs": [],
   "source": [
    "# Communal plotting parameters.\n",
    "def plot_fig1(algos, num_plotted_trials):\n",
    "    sns.set(font_scale = 6)\n",
    "    sns.set_style(\"ticks\")\n",
    "    plt.rcParams['figure.figsize'] = [55, 14]\n",
    "    fig, axes = plt.subplots(1, 4)\n",
    "    for ax in axes[0:3]:\n",
    "        ax.set_xlim(-2.1, 2.1)\n",
    "        ax.set_ylim(-0.05, 1.05)\n",
    "\n",
    "    # 3 posterior plots.\n",
    "    for i in range(len(algos)):\n",
    "        plot_posterior(axes[i], \n",
    "                       algos[i],\n",
    "                       num_plotted_trials, \n",
    "                       X_eval)\n",
    "\n",
    "    # 1 variance plot.\n",
    "    # axes[3].set_ylim(-0.05, 0.1)\n",
    "    plot_variance(axes[3], algos, X_eval)\n",
    "    \n",
    "    fig.text(0.5, .08, 'x', ha='center')\n",
    "    axes[0].set_ylabel(r\"$\\hat P(Y = 1|X = x)$\")\n",
    "    axes[0].set_xlabel(\" \")\n",
    "    axes[3].set_ylabel(r\"Var($\\hat P(Y = 1|X = x)$)\")\n",
    "    \n",
    "    fig.tight_layout()\n",
    "    plt.savefig(\"fig1.pdf\")\n",
    "    plt.show()"
   ]
  },
  {
   "cell_type": "code",
   "execution_count": null,
   "metadata": {},
   "outputs": [],
   "source": [
    "# Data.\n",
    "n = 5000\n",
    "mean = 1\n",
    "var = 1\n",
    "num_trials = 100\n",
    "X_eval = np.linspace(-2, 2, num = 20).reshape(-1, 1)\n",
    "n_estimators = 10\n",
    "\n",
    "# Algorithms.\n",
    "algos = [\n",
    "    {\n",
    "        'instance': RandomForestClassifier(n_estimators = n_estimators),\n",
    "        'label': 'CART',\n",
    "        'title': 'CART Forest',\n",
    "        'color': \"#1b9e77\",\n",
    "    },\n",
    "    {\n",
    "        'instance': CalibratedClassifierCV(base_estimator=RandomForestClassifier(n_estimators = n_estimators), \n",
    "                                           method='isotonic', \n",
    "                                           cv = 5),\n",
    "        'label': 'IRF',\n",
    "        'title': 'Isotonic Reg. Forest',\n",
    "        'color': \"#fdae61\",\n",
    "    },\n",
    "    {\n",
    "        'instance': UncertaintyForest(n_estimators = n_estimators),\n",
    "        'label': 'UF',\n",
    "        'title': 'Uncertainty Forest',\n",
    "        'color': \"#F41711\",\n",
    "    },\n",
    "]\n",
    "\n",
    "# Plotting parameters.\n",
    "parallel = True\n",
    "num_plotted_trials = 10"
   ]
  },
  {
   "cell_type": "code",
   "execution_count": null,
   "metadata": {},
   "outputs": [],
   "source": [
    "# Generate data and predictions.\n",
    "for algo in algos:\n",
    "    algo['predicted_posterior'] = estimate_posterior(algo, n, mean, var, num_trials, X_eval, parallel = parallel)\n",
    "    \n",
    "with open('algos_fig1.pkl', 'wb') as f:\n",
    "    pickle.dump(algos, f)"
   ]
  },
  {
   "cell_type": "code",
   "execution_count": null,
   "metadata": {},
   "outputs": [],
   "source": [
    "with open('algos_fig1.pkl', 'rb') as f:\n",
    "    algos = pickle.load(f)\n",
    "    \n",
    "plot_fig1(algos, num_plotted_trials)"
   ]
  },
  {
   "cell_type": "code",
   "execution_count": null,
   "metadata": {},
   "outputs": [],
   "source": []
  }
 ],
 "metadata": {
  "kernelspec": {
   "display_name": "Python 3",
   "language": "python",
   "name": "python3"
  },
  "language_info": {
   "codemirror_mode": {
    "name": "ipython",
    "version": 3
   },
   "file_extension": ".py",
   "mimetype": "text/x-python",
   "name": "python",
   "nbconvert_exporter": "python",
   "pygments_lexer": "ipython3",
   "version": "3.7.4"
  }
 },
 "nbformat": 4,
 "nbformat_minor": 2
}
