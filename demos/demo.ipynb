{
 "cells": [
  {
   "cell_type": "markdown",
   "metadata": {},
   "source": [
    "# Uncertainty Forest (UF) Demo\n",
    "This demo provides the basic use cases of the `uncertainty_forest` module."
   ]
  },
  {
   "cell_type": "code",
   "execution_count": 1,
   "metadata": {},
   "outputs": [],
   "source": [
    "import numpy as np\n",
    "from uncertainty_forest.uncertainty_forest import UncertaintyForest"
   ]
  },
  {
   "cell_type": "markdown",
   "metadata": {},
   "source": [
    "## Hyperparameter Specification\n",
    "Random forest hyperparameters such as minimum leaf size and maximum depth can be specified by the UF constructor."
   ]
  },
  {
   "cell_type": "code",
   "execution_count": 5,
   "metadata": {},
   "outputs": [],
   "source": [
    "# Notation from the current paper. \n",
    "min_samples_leaf = 1 # k\n",
    "max_features = None  # m\n",
    "n_estimators = 200   # B\n",
    "max_samples = .5     # s // 2\n",
    "bootstrap = False    # Whether to subsample with replacement.\n",
    "parallel = True\n",
    "\n",
    "uf = UncertaintyForest(         \n",
    "    min_samples_leaf = min_samples_leaf,    \n",
    "    max_features = max_features,   \n",
    "    n_estimators = n_estimators,   \n",
    "    max_samples = max_samples,   \n",
    "    bootstrap = bootstrap,\n",
    "    parallel = parallel\n",
    ")"
   ]
  },
  {
   "cell_type": "code",
   "execution_count": 6,
   "metadata": {},
   "outputs": [],
   "source": [
    "# Or, you can just use the defaults.\n",
    "uf = UncertaintyForest()"
   ]
  },
  {
   "cell_type": "markdown",
   "metadata": {},
   "source": [
    "## Estimate the Conditional Probability of `Y` given `X = x`\n",
    "Use `X_train` and `y_train` to estimate the posterior, and evaluate this posterior at `X_eval`."
   ]
  },
  {
   "cell_type": "code",
   "execution_count": 7,
   "metadata": {},
   "outputs": [
    {
     "name": "stdout",
     "output_type": "stream",
     "text": [
      "(75, 10)\n",
      "(75,)\n",
      "[[-2. -2. -2. -2. -2. -2. -2. -2. -2. -2.]\n",
      " [-1. -1. -1. -1. -1. -1. -1. -1. -1. -1.]\n",
      " [ 0.  0.  0.  0.  0.  0.  0.  0.  0.  0.]\n",
      " [ 1.  1.  1.  1.  1.  1.  1.  1.  1.  1.]\n",
      " [ 2.  2.  2.  2.  2.  2.  2.  2.  2.  2.]]\n"
     ]
    }
   ],
   "source": [
    "n_class = 25\n",
    "d = 10\n",
    "classes = [-1, 0, 1]\n",
    "\n",
    "X_train = np.concatenate([np.random.multivariate_normal(k*np.ones(d), np.eye(d), n_class) for k in classes])\n",
    "y_train = np.concatenate([k*np.ones(n_class) for k in classes])\n",
    "print(X_train.shape)\n",
    "print(y_train.shape)\n",
    "\n",
    "X_eval = np.array([c*np.ones(d) for c in range(-2, 3)])\n",
    "print(X_eval)"
   ]
  },
  {
   "cell_type": "code",
   "execution_count": 8,
   "metadata": {
    "scrolled": true
   },
   "outputs": [
    {
     "name": "stdout",
     "output_type": "stream",
     "text": [
      "P(Y|X = x) for x in X_eval:\n",
      "[[0.79480619 0.13756862 0.06762519]\n",
      " [0.74023584 0.17754233 0.08222183]\n",
      " [0.29167247 0.49790124 0.21042628]\n",
      " [0.07731687 0.17532126 0.74736187]\n",
      " [0.06672125 0.11776289 0.81551586]]\n"
     ]
    }
   ],
   "source": [
    "uf.fit(X_train, y_train)\n",
    "cond_probability = uf.predict_proba(X_eval)\n",
    "print(\"P(Y|X = x) for x in X_eval:\")\n",
    "print(cond_probability)"
   ]
  },
  {
   "cell_type": "markdown",
   "metadata": {},
   "source": [
    "## Estimate the Conditional Entropy\n",
    "`H(Y | X)` is also computed using the evaluation set `X_eval`."
   ]
  },
  {
   "cell_type": "code",
   "execution_count": 9,
   "metadata": {},
   "outputs": [
    {
     "name": "stdout",
     "output_type": "stream",
     "text": [
      "0 <= H(Y|X) = 1.075318 <= log2(3) = 1.584963\n"
     ]
    }
   ],
   "source": [
    "cond_entropy = uf.estimate_cond_entropy(X_eval)\n",
    "print(\"0 <= H(Y|X) = %f <= log2(3) = %f\" % (cond_entropy, np.log2(3.0)))"
   ]
  },
  {
   "cell_type": "markdown",
   "metadata": {},
   "source": [
    "# Estimate the mutual information\n",
    "Mutual information can be estimated with the exact same protocol as conditional entropy, with `estimate_mutual_info`."
   ]
  },
  {
   "cell_type": "code",
   "execution_count": 10,
   "metadata": {},
   "outputs": [
    {
     "name": "stdout",
     "output_type": "stream",
     "text": [
      "I(X, Y) = 0.509644\n"
     ]
    }
   ],
   "source": [
    "mutual_info = uf.estimate_mutual_info(X_eval)\n",
    "print(\"I(X, Y) = %f\" % mutual_info)"
   ]
  },
  {
   "cell_type": "code",
   "execution_count": null,
   "metadata": {},
   "outputs": [],
   "source": []
  }
 ],
 "metadata": {
  "kernelspec": {
   "display_name": "Python 3",
   "language": "python",
   "name": "python3"
  },
  "language_info": {
   "codemirror_mode": {
    "name": "ipython",
    "version": 3
   },
   "file_extension": ".py",
   "mimetype": "text/x-python",
   "name": "python",
   "nbconvert_exporter": "python",
   "pygments_lexer": "ipython3",
   "version": "3.7.4"
  }
 },
 "nbformat": 4,
 "nbformat_minor": 2
}
