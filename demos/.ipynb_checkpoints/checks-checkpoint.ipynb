{
 "cells": [
  {
   "cell_type": "markdown",
   "metadata": {},
   "source": [
    "# Complicance Checks\n",
    "This notebook ensures that the `UncertaintyForest` estimator is `sklearn`-compliant. These checks will be incorporated into tests later."
   ]
  },
  {
   "cell_type": "code",
   "execution_count": null,
   "metadata": {},
   "outputs": [],
   "source": [
    "import numpy as np\n",
    "from uncertainty_forest.uncertainty_forest import UncertaintyForest\n",
    "from sklearn.utils.estimator_checks import check_estimator"
   ]
  },
  {
   "cell_type": "code",
   "execution_count": null,
   "metadata": {},
   "outputs": [],
   "source": []
  },
  {
   "cell_type": "code",
   "execution_count": null,
   "metadata": {},
   "outputs": [],
   "source": [
    "# Check for one class data.\n",
    "uf = UncertaintyForest(parallel = False)\n",
    "\n",
    "n = 30\n",
    "d = 10\n",
    "\n",
    "X_train = np.random.multivariate_normal(np.ones(d), np.eye(d), n)\n",
    "y_train = np.repeat(\"one\", n)\n",
    "print(X_train.shape)\n",
    "print(y_train.shape)\n",
    "\n",
    "X_eval = np.array([c*np.ones(d) for c in range(-2, 3)])\n",
    "print(X_eval)"
   ]
  },
  {
   "cell_type": "code",
   "execution_count": null,
   "metadata": {},
   "outputs": [],
   "source": [
    "uf.fit(X_train, y_train)\n",
    "cond_probability = uf.predict_proba(X_eval)\n",
    "y_predicted = uf.predict(X_eval)\n",
    "print(\"P(Y|X = x) for x in X_eval:\")\n",
    "print(cond_probability)\n",
    "print(\"y_hat for x in X_eval:\")\n",
    "print(y_predicted)"
   ]
  },
  {
   "cell_type": "code",
   "execution_count": null,
   "metadata": {},
   "outputs": [],
   "source": [
    "check_estimator(UncertaintyForest)"
   ]
  },
  {
   "cell_type": "code",
   "execution_count": null,
   "metadata": {},
   "outputs": [],
   "source": []
  }
 ],
 "metadata": {
  "kernelspec": {
   "display_name": "Python 3",
   "language": "python",
   "name": "python3"
  },
  "language_info": {
   "codemirror_mode": {
    "name": "ipython",
    "version": 3
   },
   "file_extension": ".py",
   "mimetype": "text/x-python",
   "name": "python",
   "nbconvert_exporter": "python",
   "pygments_lexer": "ipython3",
   "version": "3.7.4"
  }
 },
 "nbformat": 4,
 "nbformat_minor": 2
}
