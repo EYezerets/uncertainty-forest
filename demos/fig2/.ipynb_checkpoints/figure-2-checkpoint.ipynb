{
 "cells": [
  {
   "cell_type": "code",
   "execution_count": 1,
   "metadata": {},
   "outputs": [],
   "source": [
    "import numpy as np\n",
    "import seaborn as sns\n",
    "import matplotlib.pyplot as plt\n",
    "import pickle\n",
    "\n",
    "from uncertainty_forest.uncertainty_forest import UncertaintyForest\n",
    "from sklearn.ensemble import RandomForestClassifier\n",
    "from tqdm import tqdm_notebook\n",
    "from joblib import Parallel, delayed\n",
    "from scipy.stats import entropy, norm\n",
    "from scipy.integrate import quad"
   ]
  },
  {
   "cell_type": "markdown",
   "metadata": {},
   "source": [
    "## Simulate Data and Conditional Entropy Prediction"
   ]
  },
  {
   "cell_type": "code",
   "execution_count": 2,
   "metadata": {},
   "outputs": [],
   "source": [
    "def generate_data(n, d, frac_eval, mu = 1, sigma = 1):\n",
    "    n_1 = np.random.binomial(n, .5) # number of class 1\n",
    "    mean = np.zeros(d)\n",
    "    mean[0] = mu\n",
    "    X_1 = np.random.multivariate_normal(mean, sigma * np.eye(d), n_1)\n",
    "    \n",
    "    X = np.concatenate((X_1, np.random.multivariate_normal(-mean, sigma * np.eye(d), n - n_1)))\n",
    "    y = np.concatenate((np.repeat(1, n_1), np.repeat(-1, n - n_1)))\n",
    "    \n",
    "    # Evaluation data.\n",
    "    n_eval = int(np.floor(frac_eval*n))\n",
    "    eval_indices = np.random.choice(np.arange(n), size = n_eval, replace = False)\n",
    "    X_eval = X[eval_indices, :]\n",
    "    X = np.delete(X, eval_indices, axis = 0)\n",
    "    y = np.delete(y, eval_indices, axis = 0)\n",
    "    return X, y, X_eval"
   ]
  },
  {
   "cell_type": "code",
   "execution_count": 3,
   "metadata": {},
   "outputs": [
    {
     "data": {
      "image/png": "[encoded data removed]",
      "text/plain": [
       "<Figure size 432x288 with 5 Axes>"
      ]
     },
     "metadata": {
      "needs_background": "light"
     },
     "output_type": "display_data"
    }
   ],
   "source": [
    "mus = np.arange(1, 6)\n",
    "n = 100\n",
    "frac_eval = 0.3\n",
    "d = 1\n",
    "\n",
    "fig, axes = plt.subplots(len(mus), 1)\n",
    "\n",
    "for i in range(len(mus)):\n",
    "    X, y, X_eval = generate_data(n, d, frac_eval, mu = mus[i])\n",
    "    axes[i].set_xlim(-10, 10)\n",
    "    axes[i].hist(X.ravel(), bins = 15)"
   ]
  },
  {
   "cell_type": "code",
   "execution_count": 4,
   "metadata": {},
   "outputs": [],
   "source": [
    "def conditional_entropy_distribution(n, d, frac_eval, algos, num_trials, mu, parallel = False):\n",
    "    # For each trial, generate data and compute conditional entropy for each algorithm.\n",
    "    def worker(t):\n",
    "        X, y, X_eval = generate_data(n, d, frac_eval, mu = mu)\n",
    "        ret = np.zeros(len(algos))\n",
    "        for i in range(len(algos)):\n",
    "            obj = algos[i]['instance']\n",
    "            obj.fit(X, y)\n",
    "            p = obj.predict_proba(X_eval)\n",
    "            ret[i] = np.mean(entropy(p.T, base = 2))\n",
    "        return ret\n",
    "    \n",
    "    if parallel:\n",
    "        predicted_cond_entropy = np.array(Parallel(n_jobs=-2)(delayed(worker)(t) for t in range(num_trials)))\n",
    "    else:\n",
    "        predicted_cond_entropy = np.zeros((num_trials, len(algos)))\n",
    "        for t in tqdm_notebook(range(num_trials)):\n",
    "            predicted_cond_entropy[t, :] = worker(t)\n",
    "            \n",
    "    return predicted_cond_entropy"
   ]
  },
  {
   "cell_type": "markdown",
   "metadata": {},
   "source": [
    "## Compute True Conditional Entropy"
   ]
  },
  {
   "cell_type": "code",
   "execution_count": 5,
   "metadata": {},
   "outputs": [],
   "source": [
    "def true_cond_entropy(mu, sigma = 1):\n",
    "    def func(x):\n",
    "        p = 0.5 * norm.pdf(x, mu, sigma) + 0.5 * norm.pdf(x, -mu, sigma)\n",
    "        return -p * np.log2(p)\n",
    "    \n",
    "    H_X = quad(func, -20, 20)\n",
    "    H_XY = 0.5*(1.0/np.log(2.0) + np.log2(2 * np.pi))\n",
    "    H_Y = 1\n",
    "    # I_XY = H_X - H_XY = H_Y - H_YX\n",
    "    return H_Y - H_X[0] + H_XY"
   ]
  },
  {
   "cell_type": "markdown",
   "metadata": {},
   "source": [
    "## Conditional Entropy versus Sample Size"
   ]
  },
  {
   "cell_type": "code",
   "execution_count": 6,
   "metadata": {},
   "outputs": [],
   "source": [
    "def conditional_entropy_by_n(sample_sizes, d, frac_eval, algos, num_trials, mu, parallel = False):\n",
    "    # Repeat for all 'n', and save output in the 'algos' array.\n",
    "    cond_entropy_range = np.zeros((len(sample_sizes), num_trials, len(algos)))\n",
    "    for i in range(len(sample_sizes)):\n",
    "        cond_entropy_range[i, :, :] = conditional_entropy_distribution(sample_sizes[i], \n",
    "                                                                       d, \n",
    "                                                                       frac_eval, \n",
    "                                                                       algos, \n",
    "                                                                       num_trials, \n",
    "                                                                       mu = mu,\n",
    "                                                                       parallel = parallel)\n",
    "        \n",
    "    for j in range(len(algos)):\n",
    "        algos[j]['cond_entropy_by_n_d_%d' % d] = cond_entropy_range[:, :, j]\n",
    "        \n",
    "    with open('algos_fig2.pkl', 'wb') as f:\n",
    "        pickle.dump(algos, f)\n",
    "    with open('sample_sizes_fig2.pkl', 'wb') as f:\n",
    "        pickle.dump(sample_sizes, f)"
   ]
  },
  {
   "cell_type": "code",
   "execution_count": 7,
   "metadata": {},
   "outputs": [],
   "source": [
    "def plot_cond_entropy_by_n(sample_sizes, algos, num_plotted_trials, d, mu = 1):\n",
    "    sns.set(font_scale = 2)\n",
    "    sns.set_style(\"ticks\")\n",
    "    plt.figure()\n",
    "    plt.rcParams[\"font.family\"] = \"sans-serif\"\n",
    "    plt.rcParams['figure.figsize'] = [15, 10]\n",
    "    \n",
    "    for algo in algos:\n",
    "        # Plot the mean over trials as a solid line.\n",
    "        plt.plot(sample_sizes,\n",
    "                 np.mean(algo['cond_entropy_by_n_d_%d' % d], axis = 1).flatten(), \n",
    "                 label = algo['label'], \n",
    "                 linewidth = 2, \n",
    "                 color = algo['color'])\n",
    "        # Use transparent lines to show other trials.\n",
    "        for t in range(num_plotted_trials):\n",
    "            plt.plot(sample_sizes, \n",
    "                     algo['cond_entropy_by_n_d_%d' % d][:, t].flatten(),  \n",
    "                     linewidth = 4, \n",
    "                     color = algo['color'],\n",
    "                     alpha = 0.15)\n",
    "    \n",
    "    truth = true_cond_entropy(mu)\n",
    "    plt.axhline(y = truth, linestyle = '-', color = \"black\", label = \"Truth\")\n",
    "            \n",
    "    plt.xlabel(\"Sample Size\")\n",
    "    plt.ylabel(\"Estimated Conditional Entropy\")\n",
    "    plt.title(\"Conditional Entropy versus Sample Size, d = %d\" % d)\n",
    "    plt.ylim(ymin = -0.05)\n",
    "    plt.yticks(fontsize = 20)\n",
    "    plt.xticks(fontsize = 20)\n",
    "    plt.legend(loc = 'upper right')\n",
    "    plt.tight_layout()\n",
    "    plt.savefig(\"fig2_n_dim_%d.pdf\" % d)\n",
    "    plt.show()"
   ]
  },
  {
   "cell_type": "markdown",
   "metadata": {},
   "source": [
    "## Conditional Entropy Estimates versus Effect Size"
   ]
  },
  {
   "cell_type": "code",
   "execution_count": 8,
   "metadata": {},
   "outputs": [],
   "source": [
    "def conditional_entropy_by_mu(mus, n, d, frac_eval, algos, num_trials, parallel = False):\n",
    "    # Repeat for all 'mu', and save output in the 'algos' array.\n",
    "    cond_entropy_range = np.zeros((len(mus), num_trials, len(algos)))\n",
    "    for i in range(len(mus)):\n",
    "        cond_entropy_range[i, :, :] = conditional_entropy_distribution(n, \n",
    "                                                                       d, \n",
    "                                                                       frac_eval, \n",
    "                                                                       algos, \n",
    "                                                                       num_trials, \n",
    "                                                                       mu = mus[i],\n",
    "                                                                       parallel = parallel)      \n",
    "    for j in range(len(algos)):\n",
    "        algos[j]['cond_entropy_by_mu_d_%d' % d] = cond_entropy_range[:, :, j]\n",
    "        \n",
    "    with open('algos_fig2.pkl', 'wb') as f:\n",
    "        pickle.dump(algos, f)\n",
    "    with open('mus_fig2.pkl', 'wb') as f:\n",
    "        pickle.dump(mus, f)"
   ]
  },
  {
   "cell_type": "code",
   "execution_count": 9,
   "metadata": {},
   "outputs": [],
   "source": [
    "def plot_cond_entropy_by_mu(mus, algos, d):\n",
    "    sns.set(font_scale = 2)\n",
    "    sns.set_style(\"ticks\")\n",
    "    plt.figure()\n",
    "    plt.rcParams[\"font.family\"] = \"sans-serif\"\n",
    "    plt.rcParams['figure.figsize'] = [15, 10]\n",
    "    \n",
    "    for algo in algos:\n",
    "        # Plot the mean over trials as a solid line.\n",
    "        plt.plot(mus, \n",
    "                 np.mean(algo['cond_entropy_by_mu_d_%d' % d], axis = 1).flatten(), \n",
    "                 label = algo['label'], \n",
    "                 linewidth = 2, \n",
    "                 color = algo['color'])\n",
    "    \n",
    "    truth = [true_cond_entropy(mu) for mu in mus]\n",
    "    plt.plot(mus, truth, label = 'Truth', linewidth = 2, color = 'black')\n",
    "\n",
    "    plt.ylim(ymin = -.05)\n",
    "    plt.yticks(fontsize = 20)\n",
    "    plt.xticks(fontsize = 20)\n",
    "    plt.xlabel(\"Effect Size\")\n",
    "    plt.ylabel(\"Estimated Conditional Entropy\")\n",
    "    plt.tight_layout()\n",
    "    plt.savefig(\"fig2_mu_dim_%d.pdf\" % d)\n",
    "    plt.show()"
   ]
  },
  {
   "cell_type": "markdown",
   "metadata": {},
   "source": [
    "## Run Experiments and Plot"
   ]
  },
  {
   "cell_type": "code",
   "execution_count": 10,
   "metadata": {},
   "outputs": [],
   "source": [
    "# Data.\n",
    "mus = [i * 0.5 for i in range(1, 11)]\n",
    "num_trials = 100\n",
    "frac_eval = 0.3\n",
    "\n",
    "# Algorithms.\n",
    "algos = [\n",
    "    {\n",
    "        'instance': RandomForestClassifier(n_estimators = 500),\n",
    "        'label': 'CART',\n",
    "        'title': 'CART Forest',\n",
    "        'color': \"#1b9e77\",\n",
    "    },\n",
    "    {\n",
    "        'instance': UncertaintyForest(finite_correction = False, n_estimators = 500),\n",
    "        'label': 'Honest',\n",
    "        'title': 'Honest Forest',\n",
    "        'color': \"#fdae61\",\n",
    "    },\n",
    "    {\n",
    "        'instance': UncertaintyForest(n_estimators = 500),\n",
    "        'label': 'UF',\n",
    "        'title': 'Uncertainty Forest',\n",
    "        'color': \"#F41711\",\n",
    "    },\n",
    "]\n",
    "\n",
    "# Other.\n",
    "num_plotted_trials = 5\n",
    "parallel = True"
   ]
  },
  {
   "cell_type": "markdown",
   "metadata": {},
   "source": [
    "### Estimated H(Y | X) versus n, d = 1"
   ]
  },
  {
   "cell_type": "code",
   "execution_count": null,
   "metadata": {
    "scrolled": true
   },
   "outputs": [],
   "source": [
    "# Estimate conditional entropy vs n.\n",
    "sample_sizes = range(100, 2501, 300)\n",
    "d = 1\n",
    "conditional_entropy_by_n(sample_sizes, d, frac_eval, algos, num_trials, 1, parallel = parallel)\n",
    "print(algos[0]['cond_entropy_by_n_d_1'])"
   ]
  },
  {
   "cell_type": "code",
   "execution_count": 15,
   "metadata": {
    "scrolled": true
   },
   "outputs": [
    {
     "name": "stdout",
     "output_type": "stream",
     "text": [
      "(9, 100)\n",
      "8\n"
     ]
    }
   ],
   "source": [
    "with open('sample_sizes_fig2.pkl', 'rb') as f:\n",
    "    sample_sizes = pickle.load(f)\n",
    "with open('algos_fig2.pkl', 'rb') as f:\n",
    "    algos = pickle.load(f)\n",
    "    \n",
    "plot_cond_entropy_by_n(sample_sizes, algos, num_plotted_trials, d)"
   ]
  },
  {
   "cell_type": "markdown",
   "metadata": {},
   "source": [
    "### Estimated H(Y | X) versus mu, d = 1"
   ]
  },
  {
   "cell_type": "code",
   "execution_count": null,
   "metadata": {},
   "outputs": [],
   "source": [
    "# Estimate conditional entropy vs mu.\n",
    "n = 3000\n",
    "num_trials = 15\n",
    "conditional_entropy_by_mu(mus, n, d, frac_eval, algos, num_trials, parallel = parallel)\n",
    "print(algos[0]['cond_entropy_by_mu_d_1'])"
   ]
  },
  {
   "cell_type": "code",
   "execution_count": null,
   "metadata": {},
   "outputs": [],
   "source": [
    "with open('mus_fig2.pkl', 'rb') as f:\n",
    "    sample_sizes = pickle.load(f)\n",
    "with open('algos_fig2.pkl', 'rb') as f:\n",
    "    algos = pickle.load(f)\n",
    "    \n",
    "plot_cond_entropy_by_mu(mus, algos, d)"
   ]
  },
  {
   "cell_type": "code",
   "execution_count": null,
   "metadata": {},
   "outputs": [],
   "source": [
    "# Estimate conditional entropy vs n.\n",
    "d = 40\n",
    "sample_sizes = range(100, 5001, 700)\n",
    "conditional_entropy_by_n(sample_sizes, d, frac_eval, algos, num_trials, 1, parallel = parallel)\n",
    "print(algos[0]['cond_entropy_by_n_d_40'])"
   ]
  },
  {
   "cell_type": "code",
   "execution_count": null,
   "metadata": {},
   "outputs": [],
   "source": [
    "with open('sample_sizes_fig2.pkl', 'rb') as f:\n",
    "    sample_sizes = pickle.load(f)\n",
    "with open('algos_fig2.pkl', 'rb') as f:\n",
    "    algos = pickle.load(f)\n",
    "    \n",
    "plot_cond_entropy_by_n(sample_sizes, algos, num_plotted_trials, d)"
   ]
  },
  {
   "cell_type": "code",
   "execution_count": null,
   "metadata": {},
   "outputs": [],
   "source": [
    "# Estimate conditional entropy vs mu.\n",
    "n = 8000\n",
    "num_trials = 15\n",
    "conditional_entropy_by_mu(mus, n, d, frac_eval, algos, num_trials, parallel = parallel)\n",
    "print(algos[0]['cond_entropy_by_mu_d_40'])"
   ]
  },
  {
   "cell_type": "code",
   "execution_count": null,
   "metadata": {},
   "outputs": [],
   "source": [
    "with open('mus_fig2.pkl', 'rb') as f:\n",
    "    sample_sizes = pickle.load(f)\n",
    "with open('algos_fig2.pkl', 'rb') as f:\n",
    "    algos = pickle.load(f)\n",
    "    \n",
    "plot_cond_entropy_by_mu(mus, algos, d)"
   ]
  }
 ],
 "metadata": {
  "kernelspec": {
   "display_name": "Python 3",
   "language": "python",
   "name": "python3"
  },
  "language_info": {
   "codemirror_mode": {
    "name": "ipython",
    "version": 3
   },
   "file_extension": ".py",
   "mimetype": "text/x-python",
   "name": "python",
   "nbconvert_exporter": "python",
   "pygments_lexer": "ipython3",
   "version": "3.7.4"
  }
 },
 "nbformat": 4,
 "nbformat_minor": 2
}
