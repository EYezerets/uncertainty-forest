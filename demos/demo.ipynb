{
 "cells": [
  {
   "cell_type": "markdown",
   "metadata": {},
   "source": [
    "# Uncertainty Forest (UF) Demo\n",
    "This demo provides the basic use cases of the `uncertainty_forest` module."
   ]
  },
  {
   "cell_type": "code",
   "execution_count": 1,
   "metadata": {},
   "outputs": [],
   "source": [
    "import numpy as np\n",
    "from uncertainty_forest.uncertainty_forest import UncertaintyForest"
   ]
  },
  {
   "cell_type": "markdown",
   "metadata": {},
   "source": [
    "## Hyperparameter Specification\n",
    "Random forest hyperparameters such as minimum leaf size and maximum depth can be specified by the UF constructor."
   ]
  },
  {
   "cell_type": "code",
   "execution_count": 9,
   "metadata": {},
   "outputs": [],
   "source": [
    "# Notation from the current paper. \n",
    "max_depth = 30       # D\n",
    "min_samples_leaf = 1 # k\n",
    "max_features = None  # m\n",
    "n_estimators = 200   # B\n",
    "max_samples = .5     # s // 2\n",
    "bootstrap = False    # Whether to subsample with replacement.\n",
    "parallel = False\n",
    "\n",
    "uf = UncertaintyForest(\n",
    "    max_depth = max_depth,          \n",
    "    min_samples_leaf = min_samples_leaf,    \n",
    "    max_features = max_features,   \n",
    "    n_estimators = n_estimators,   \n",
    "    max_samples = max_samples,   \n",
    "    bootstrap = bootstrap,\n",
    "    parallel = parallel\n",
    ")"
   ]
  },
  {
   "cell_type": "code",
   "execution_count": 10,
   "metadata": {},
   "outputs": [],
   "source": [
    "# Or, you can just use the defaults.\n",
    "uf = UncertaintyForest()"
   ]
  },
  {
   "cell_type": "markdown",
   "metadata": {},
   "source": [
    "## Estimate the Conditional Probability of `Y` given `X = x`\n",
    "Use `X_train` and `y_train` to estimate the posterior, and evaluate this posterior at `X_eval`."
   ]
  },
  {
   "cell_type": "code",
   "execution_count": 11,
   "metadata": {},
   "outputs": [
    {
     "name": "stdout",
     "output_type": "stream",
     "text": [
      "(75, 10)\n",
      "(75,)\n",
      "[[-2. -2. -2. -2. -2. -2. -2. -2. -2. -2.]\n",
      " [-1. -1. -1. -1. -1. -1. -1. -1. -1. -1.]\n",
      " [ 0.  0.  0.  0.  0.  0.  0.  0.  0.  0.]\n",
      " [ 1.  1.  1.  1.  1.  1.  1.  1.  1.  1.]\n",
      " [ 2.  2.  2.  2.  2.  2.  2.  2.  2.  2.]]\n"
     ]
    }
   ],
   "source": [
    "n_class = 25\n",
    "d = 10\n",
    "classes = [-1, 0, 1]\n",
    "\n",
    "X_train = np.concatenate([np.random.multivariate_normal(k*np.ones(d), np.eye(d), n_class) for k in classes])\n",
    "y_train = np.concatenate([k*np.ones(n_class) for k in classes])\n",
    "print(X_train.shape)\n",
    "print(y_train.shape)\n",
    "\n",
    "X_eval = np.array([c*np.ones(d) for c in range(-2, 3)])\n",
    "print(X_eval)"
   ]
  },
  {
   "cell_type": "code",
   "execution_count": 12,
   "metadata": {
    "scrolled": true
   },
   "outputs": [
    {
     "name": "stdout",
     "output_type": "stream",
     "text": [
      "P(Y|X = x) for x in X_eval:\n",
      "[[0.76038797 0.16347642 0.07613561]\n",
      " [0.71995983 0.20322769 0.07681249]\n",
      " [0.31995016 0.4704302  0.20961964]\n",
      " [0.09970353 0.22997999 0.67031649]\n",
      " [0.07898183 0.15495829 0.76605987]]\n"
     ]
    }
   ],
   "source": [
    "uf.fit(X_train, y_train)\n",
    "cond_probability = uf.predict_proba(X_eval)\n",
    "print(\"P(Y|X = x) for x in X_eval:\")\n",
    "print(cond_probability)"
   ]
  },
  {
   "cell_type": "markdown",
   "metadata": {},
   "source": [
    "## Estimate the Conditional Entropy\n",
    "`H(Y | X)` is also computed using the evaluation set `X_eval`."
   ]
  },
  {
   "cell_type": "code",
   "execution_count": 13,
   "metadata": {},
   "outputs": [
    {
     "name": "stdout",
     "output_type": "stream",
     "text": [
      "0 <= H(Y|X) = 1.164090 <= log2(3) = 1.584963\n"
     ]
    }
   ],
   "source": [
    "cond_entropy = uf.estimate_cond_entropy(X_eval)\n",
    "print(\"0 <= H(Y|X) = %f <= log2(3) = %f\" % (cond_entropy, np.log2(3.0)))"
   ]
  },
  {
   "cell_type": "markdown",
   "metadata": {},
   "source": [
    "# Estimate the mutual information\n",
    "Mutual information can be estimated with the exact same protocol as conditional entropy, with `estimate_mutual_info`."
   ]
  },
  {
   "cell_type": "code",
   "execution_count": 15,
   "metadata": {},
   "outputs": [
    {
     "name": "stdout",
     "output_type": "stream",
     "text": [
      "I(X, Y) = 0.420872\n"
     ]
    }
   ],
   "source": [
    "mutual_info = uf.estimate_mutual_info(X_eval)\n",
    "print(\"I(X, Y) = %f\" % mutual_info)"
   ]
  }
 ],
 "metadata": {
  "kernelspec": {
   "display_name": "Python 3",
   "language": "python",
   "name": "python3"
  },
  "language_info": {
   "codemirror_mode": {
    "name": "ipython",
    "version": 3
   },
   "file_extension": ".py",
   "mimetype": "text/x-python",
   "name": "python",
   "nbconvert_exporter": "python",
   "pygments_lexer": "ipython3",
   "version": "3.7.4"
  }
 },
 "nbformat": 4,
 "nbformat_minor": 2
}
