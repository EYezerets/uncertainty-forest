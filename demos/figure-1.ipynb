{
 "cells": [
  {
   "cell_type": "code",
   "execution_count": null,
   "metadata": {},
   "outputs": [],
   "source": [
    "import numpy as np\n",
    "from uncertainty_forest.uncertainty_forest import UncertaintyForest"
   ]
  },
  {
   "cell_type": "code",
   "execution_count": null,
   "metadata": {},
   "outputs": [],
   "source": []
  },
  {
   "cell_type": "code",
   "execution_count": null,
   "metadata": {},
   "outputs": [],
   "source": [
    "sns.set(font_scale = 6)\n",
    "sns.set_style(\"ticks\")\n",
    "indices = np.sort(np.random.choice(5000, 100, replace = False))\n",
    "\n",
    "plt.rcParams['figure.figsize'] = [55, 14]\n",
    "fig, (ax1, ax2, ax3, ax4) = plt.subplots(1, 4)\n",
    "for i in range(0, 5):\n",
    "    linewidth = 1\n",
    "    alpha = .3\n",
    "    if i == 4:\n",
    "        alpha = 1\n",
    "        linewidth = 4\n",
    "    line_cart, = ax1.plot(np.sort(X_samples[i].flatten())[indices], cart_one[i][indices], label = \"CART\", linewidth = linewidth, color = \"#1b9e77\", alpha = alpha)\n",
    "    line_honest, = ax2.plot(np.sort(X_samples[i].flatten())[indices], honest_one[i][indices], label = \"Honest\", linewidth = linewidth, color = \"#fdae61\", alpha = alpha)\n",
    "    line_cef, = ax3.plot(np.sort(X_samples[i].flatten())[indices], cef_one[i][indices], label = \"UF\", linewidth = linewidth, color = \"#F41711\", alpha = alpha)\n",
    "indices = np.sort(np.random.choice(5000, 500, replace = False))\n",
    "\n",
    "ax1.set_title(\"CART Forests\")\n",
    "ax2.set_title(\"Honest Forests\")\n",
    "ax3.set_title(\"Uncertainty Forests\")\n",
    "\n",
    "line_cef_var, = ax4.plot(avg_X_samples[indices], var_cef_one.flatten()[indices], label = \"CF\", linewidth = 4, color = \"#F41711\")\n",
    "\n",
    "line_cart_var, = ax4.plot(avg_X_samples[indices], var_cart_one.flatten()[indices], label = \"CART\", linewidth = 4, color = \"#35978f\")\n",
    "\n",
    "line_honest_var, = ax4.plot(avg_X_samples[indices], var_honest_one.flatten()[indices], label = \"Honesty\", linewidth = 4, color = \"#fdae61\")\n",
    "\n",
    "#plt.legend(handles=[line_cart, line_honest, line_cef,], loc = 'upper right')\n",
    "#fig.text(0.5, -.03, 'Magnitude of X', ha='center')\n",
    "fig.text(0.5, .08, 'Magnitude of X', ha='center')\n",
    "ax1.set_ylabel(r\"$\\hat P(Y = 1|X = x)$\")\n",
    "ax4.set_ylabel(r\"$\\hat P(Y|X = x)$ Variance\")\n",
    "ax1.set_xlabel(\" \")\n",
    "ax4.set_xlim(-2.5, 2.5)\n",
    "#plt.title(\"H(Y|X) Estimate vs Sample Size with Mean = 1\")\n",
    "fig.tight_layout()\n",
    "plt.savefig(\"posterior_combined_and_var_f19.pdf\")\n",
    "plt.show()"
   ]
  }
 ],
 "metadata": {
  "kernelspec": {
   "display_name": "Python 3",
   "language": "python",
   "name": "python3"
  },
  "language_info": {
   "codemirror_mode": {
    "name": "ipython",
    "version": 3
   },
   "file_extension": ".py",
   "mimetype": "text/x-python",
   "name": "python",
   "nbconvert_exporter": "python",
   "pygments_lexer": "ipython3",
   "version": "3.7.4"
  }
 },
 "nbformat": 4,
 "nbformat_minor": 2
}
