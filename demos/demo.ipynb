{
 "cells": [
  {
   "cell_type": "markdown",
   "metadata": {},
   "source": [
    "# Uncertainty Forest (UF) Demo\n",
    "This demo provides the basic use cases of the `uncertainty_forest` module."
   ]
  },
  {
   "cell_type": "code",
   "execution_count": 1,
   "metadata": {},
   "outputs": [],
   "source": [
    "import numpy as np\n",
    "from uncertainty_forest.uncertainty_forest import UncertaintyForest"
   ]
  },
  {
   "cell_type": "markdown",
   "metadata": {},
   "source": [
    "## Hyperparameter Specification\n",
    "Random forest hyperparameters such as minimum leaf size and maximum depth can be specified by the UF constructor."
   ]
  },
  {
   "cell_type": "code",
   "execution_count": 2,
   "metadata": {},
   "outputs": [],
   "source": [
    "# Notation from the current paper. \n",
    "max_depth=30,           # D\n",
    "min_samples_leaf=1,     # k\n",
    "max_features = None,    # m\n",
    "n_trees = 200,          # B\n",
    "max_samples = .5,       # s // 2\n",
    "bootstrap = False       # Whether to subsample with replacement.\n",
    "\n",
    "uf = UncertaintyForest(\n",
    "    max_depth = max_depth,          \n",
    "    min_samples_leaf = min_samples_leaf,    \n",
    "    max_features = max_features,   \n",
    "    n_trees = n_trees,   \n",
    "    max_samples = max_samples,   \n",
    "    bootstrap = bootstrap,\n",
    ")"
   ]
  },
  {
   "cell_type": "code",
   "execution_count": 3,
   "metadata": {},
   "outputs": [],
   "source": [
    "# Or, you can just use the defaults.\n",
    "uf = UncertaintyForest()"
   ]
  },
  {
   "cell_type": "markdown",
   "metadata": {},
   "source": [
    "## Estimate the Conditional Probability of `Y` given `X = x`\n",
    "Use `X_train` and `y_train` to estimate the posterior, and evaluate this posterior at `X_eval`."
   ]
  },
  {
   "cell_type": "code",
   "execution_count": 4,
   "metadata": {},
   "outputs": [
    {
     "name": "stdout",
     "output_type": "stream",
     "text": [
      "(75, 10)\n",
      "(75,)\n",
      "[[-2. -2. -2. -2. -2. -2. -2. -2. -2. -2.]\n",
      " [-1. -1. -1. -1. -1. -1. -1. -1. -1. -1.]\n",
      " [ 0.  0.  0.  0.  0.  0.  0.  0.  0.  0.]\n",
      " [ 1.  1.  1.  1.  1.  1.  1.  1.  1.  1.]\n",
      " [ 2.  2.  2.  2.  2.  2.  2.  2.  2.  2.]]\n"
     ]
    }
   ],
   "source": [
    "n_class = 25\n",
    "d = 10\n",
    "classes = [-1, 0, 1]\n",
    "\n",
    "X_train = np.concatenate([np.random.multivariate_normal(k*np.ones(d), np.eye(d), n_class) for k in classes])\n",
    "y_train = np.concatenate([k*np.ones(n_class) for k in classes])\n",
    "print(X_train.shape)\n",
    "print(y_train.shape)\n",
    "\n",
    "X_eval = np.array([c*np.ones(d) for c in range(-2, 3)])\n",
    "print(X_eval)"
   ]
  },
  {
   "cell_type": "code",
   "execution_count": 5,
   "metadata": {},
   "outputs": [
    {
     "name": "stdout",
     "output_type": "stream",
     "text": [
      "P(Y|X = x) for x in X_eval:\n",
      "[[0.75640096 0.16467976 0.07891928]\n",
      " [0.75140511 0.17232061 0.07627428]\n",
      " [0.28677663 0.49333013 0.21989323]\n",
      " [0.11789585 0.27709984 0.60500432]\n",
      " [0.09812507 0.19592294 0.70595198]]\n"
     ]
    }
   ],
   "source": [
    "cond_probability = uf.estimate_cond_probability(X_train, y_train, X_eval)\n",
    "print(\"P(Y|X = x) for x in X_eval:\")\n",
    "print(cond_probability)"
   ]
  },
  {
   "cell_type": "markdown",
   "metadata": {},
   "source": [
    "## Estimate the Conditional Entropy\n",
    "If no data is supplied, `H(Y | X)` is computed using the stored conditional probability (of the evaluation set `X_eval`)."
   ]
  },
  {
   "cell_type": "code",
   "execution_count": 6,
   "metadata": {},
   "outputs": [
    {
     "name": "stdout",
     "output_type": "stream",
     "text": [
      "0 <= H(Y|X) = 1.202395 <= log2(3) = 1.584963\n"
     ]
    }
   ],
   "source": [
    "cond_entropy = uf.estimate_cond_entropy()\n",
    "print(\"0 <= H(Y|X) = %f <= log2(3) = %f\" % (cond_entropy, np.log2(3.0)))"
   ]
  },
  {
   "cell_type": "markdown",
   "metadata": {},
   "source": [
    "New data can be supplied directly to the `estimate_cond_entropy` function. You must provide **both** training data and evaluation data."
   ]
  },
  {
   "cell_type": "code",
   "execution_count": 7,
   "metadata": {},
   "outputs": [
    {
     "name": "stdout",
     "output_type": "stream",
     "text": [
      "H(Y|X) = 1.699575\n"
     ]
    }
   ],
   "source": [
    "n_class = 10\n",
    "d = 2\n",
    "\n",
    "classes = range(1, 5) # Classes can be arbitrary, will be preprocessed into {0, 1, ..., K}\n",
    "\n",
    "X_train = np.concatenate([np.random.multivariate_normal(k*np.ones(d), 0.5*k*np.eye(d), n_class) for k in classes])\n",
    "y_train = np.concatenate([k*np.ones(n_class) for k in classes])\n",
    "X_eval = np.array([c*np.ones(d) for c in range(-2, 3)])\n",
    "\n",
    "# Notation from the current paper. \n",
    "n_trees = 1\n",
    "\n",
    "uf = UncertaintyForest(  \n",
    "    n_trees = n_trees\n",
    ")\n",
    "\n",
    "cond_entropy = uf.estimate_cond_entropy(X_train, y_train, X_eval)\n",
    "print(\"H(Y|X) = %f\" % cond_entropy)"
   ]
  },
  {
   "cell_type": "markdown",
   "metadata": {},
   "source": [
    "# Estimate the mutual information\n",
    "Mutual information can be estimated with the exact same schema as conditional entropy, with `estimate_mutual_info`."
   ]
  },
  {
   "cell_type": "code",
   "execution_count": 8,
   "metadata": {},
   "outputs": [
    {
     "name": "stdout",
     "output_type": "stream",
     "text": [
      "I(X, Y) = 0.300425\n"
     ]
    }
   ],
   "source": [
    "mutual_info = uf.estimate_mutual_info()\n",
    "print(\"I(X, Y) = %f\" % mutual_info)"
   ]
  }
 ],
 "metadata": {
  "kernelspec": {
   "display_name": "Python 3",
   "language": "python",
   "name": "python3"
  },
  "language_info": {
   "codemirror_mode": {
    "name": "ipython",
    "version": 3
   },
   "file_extension": ".py",
   "mimetype": "text/x-python",
   "name": "python",
   "nbconvert_exporter": "python",
   "pygments_lexer": "ipython3",
   "version": "3.7.4"
  }
 },
 "nbformat": 4,
 "nbformat_minor": 2
}
