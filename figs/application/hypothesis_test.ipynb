{
 "cells": [
  {
   "cell_type": "code",
   "execution_count": 1,
   "metadata": {},
   "outputs": [],
   "source": [
    "import pandas as pd\n",
    "import numpy as np\n",
    "import pickle\n",
    "\n",
    "from sklearn.ensemble import BaggingClassifier\n",
    "from sklearn.tree import DecisionTreeClassifier\n",
    "from scipy.stats import entropy\n",
    "\n",
    "from joblib import Parallel, delayed"
   ]
  },
  {
   "cell_type": "code",
   "execution_count": 2,
   "metadata": {},
   "outputs": [
    {
     "name": "stdout",
     "output_type": "stream",
     "text": [
      "       v type  claw        dist  age  cluster\n",
      "0      0   KC   2.0   337.63801    0        1\n",
      "1      1   KC   1.0     0.00000    0        1\n",
      "2      2   KC   1.0  1291.20357    0        1\n",
      "3      3   KC   1.0   252.63347    0        1\n",
      "4      4   KC   2.0  1822.29525    0        1\n",
      "..   ...  ...   ...         ...  ...      ...\n",
      "208  208   PN   0.0     0.00000   -1        6\n",
      "209  209   PN   0.0     0.00000   -1        6\n",
      "210  210   PN   0.0     0.00000   -1        6\n",
      "211  211   PN   0.0     0.00000   -1        6\n",
      "212  212   PN   0.0     0.00000   -1        6\n",
      "\n",
      "[213 rows x 6 columns]\n",
      "(213, 4)\n",
      "(213,)\n"
     ]
    }
   ],
   "source": [
    "# Load data\n",
    "data = pd.read_csv(\"vdf.csv\")\n",
    "\n",
    "data.age = pd.factorize(data.age)[0]\n",
    "data.v = pd.factorize(data.v)[0]\n",
    "data = data.fillna(0)\n",
    "print(data)\n",
    "\n",
    "col_names = [\"claw\", \"dist\", \"age\", \"cluster\"]\n",
    "X = np.array(data[col_names])\n",
    "y = np.array(pd.factorize(data.type)[0])\n",
    "print(X.shape)\n",
    "print(y.shape)"
   ]
  },
  {
   "cell_type": "code",
   "execution_count": 3,
   "metadata": {},
   "outputs": [],
   "source": [
    "def uf(X, y, n_estimators = 300, max_samples = .4, base = np.exp(1), kappa = 3):\n",
    "    \n",
    "    # Build forest with default parameters.\n",
    "    model = BaggingClassifier(DecisionTreeClassifier(), \n",
    "                              n_estimators=n_estimators, \n",
    "                              max_samples=max_samples, \n",
    "                              bootstrap=False)\n",
    "    model.fit(X, y)\n",
    "    n = X.shape[0]\n",
    "    K = model.n_classes_\n",
    "    _, y = np.unique(y, return_inverse=True)\n",
    "    \n",
    "    cond_entropy = 0\n",
    "    for tree_idx, tree in enumerate(model):\n",
    "        # Find the indices of the training set used for partition.\n",
    "        sampled_indices = model.estimators_samples_[tree_idx]\n",
    "        unsampled_indices = np.delete(np.arange(0,n), sampled_indices)\n",
    "        \n",
    "        # Randomly split the rest into voting and evaluation.\n",
    "        total_unsampled = len(unsampled_indices)\n",
    "        np.random.shuffle(unsampled_indices)\n",
    "        vote_indices = unsampled_indices[:total_unsampled//2]\n",
    "        eval_indices = unsampled_indices[total_unsampled//2:]\n",
    "        \n",
    "        # Store the posterior in a num_nodes-by-num_classes matrix.\n",
    "        # Posteriors in non-leaf cells will be zero everywhere\n",
    "        # and later changed to uniform.\n",
    "        node_counts = tree.tree_.n_node_samples\n",
    "        class_counts = np.zeros((len(node_counts), K))\n",
    "        est_nodes = tree.apply(X[vote_indices])\n",
    "        est_classes = y[vote_indices]\n",
    "        for i in range(len(est_nodes)):\n",
    "            class_counts[est_nodes[i], est_classes[i]] += 1\n",
    "        \n",
    "        row_sums = class_counts.sum(axis=1) # Total number of estimation points in each leaf.\n",
    "        row_sums[row_sums == 0] = 1 # Avoid divide by zero.\n",
    "        class_probs = class_counts / row_sums[:, None]\n",
    "        \n",
    "        # Make the nodes that have no estimation indices uniform.\n",
    "        # This includes non-leaf nodes, but that will not affect the estimate.\n",
    "        class_probs[np.argwhere(class_probs.sum(axis = 1) == 0)] = [1 / K]*K\n",
    "        \n",
    "        # Apply finite sample correction and renormalize.\n",
    "        where_0 = np.argwhere(class_probs == 0)\n",
    "        for elem in where_0:\n",
    "            class_probs[elem[0], elem[1]] = 1 / (kappa*class_counts.sum(axis = 1)[elem[0]])\n",
    "        row_sums = class_probs.sum(axis=1)\n",
    "        class_probs = class_probs / row_sums[:, None]\n",
    "        \n",
    "        # Place evaluation points in their corresponding leaf node.\n",
    "        # Store evaluation posterior in a num_eval-by-num_class matrix.\n",
    "        eval_class_probs = class_probs[tree.apply(X[eval_indices])]\n",
    "        # eval_class_probs = [class_probs[x] for x in tree.apply(X[eval_indices])]\n",
    "        eval_entropies = [entropy(posterior) for posterior in eval_class_probs]\n",
    "        cond_entropy += np.mean(eval_entropies)\n",
    "      \n",
    "    return cond_entropy / n_estimators\n",
    "\n",
    "def entropy_estimate(y, base = np.exp(1)):\n",
    "    _, counts = np.unique(y, return_counts=True)\n",
    "    return entropy(counts, base=base)\n",
    "\n",
    "def estimate_mi(X, y):\n",
    "    H_Y = entropy_estimate(y)\n",
    "    H_YX = uf(X, y)\n",
    "    return H_Y - H_YX"
   ]
  },
  {
   "cell_type": "code",
   "execution_count": 4,
   "metadata": {},
   "outputs": [],
   "source": [
    "def _perm_stat(calc_stat, x, y):\n",
    "    permy = np.random.permutation(y)\n",
    "    perm_stat = calc_stat(x, permy)\n",
    "\n",
    "    return perm_stat\n",
    "\n",
    "def perm_test(calc_stat, X, y, reps=1000, workers=1):\n",
    "    \"\"\"\n",
    "    Calculate the p-value via permutation\n",
    "    \"\"\"\n",
    "    # calculate observed test statistic\n",
    "    stat = calc_stat(X, y)\n",
    "\n",
    "    # calculate null distribution\n",
    "    null_dist = np.array(\n",
    "        Parallel(n_jobs=workers)(\n",
    "            [delayed(_perm_stat)(calc_stat, X, y) for rep in range(reps)]\n",
    "        )\n",
    "    )\n",
    "    pvalue = (null_dist >= stat).sum() / reps\n",
    "\n",
    "    # correct for a p-value of 0. This is because, with bootstrapping\n",
    "    # permutations, a p-value of 0 is incorrect\n",
    "    if pvalue == 0:\n",
    "        pvalue = 1 / reps\n",
    "\n",
    "    return stat, pvalue"
   ]
  },
  {
   "cell_type": "code",
   "execution_count": 5,
   "metadata": {},
   "outputs": [
    {
     "name": "stdout",
     "output_type": "stream",
     "text": [
      "Test Statistic:  0.8430897838865855\n",
      "p-value:  0.001\n"
     ]
    }
   ],
   "source": [
    "reps = 1000\n",
    "\n",
    "stat, pvalue = perm_test(estimate_mi, X, y, reps=reps, workers=-2)\n",
    "print(\"Test Statistic: \", stat)\n",
    "print(\"p-value: \", pvalue)\n",
    "\n",
    "pickle.dump((stat, pvalue), open('stat_pval.pkl', 'wb'))"
   ]
  },
  {
   "cell_type": "code",
   "execution_count": 6,
   "metadata": {},
   "outputs": [
    {
     "name": "stdout",
     "output_type": "stream",
     "text": [
      "Test Statistic:  0.8430897838865855\n",
      "p-value:  0.001\n"
     ]
    }
   ],
   "source": [
    "stat, pvalue = pickle.load(open('stat_pval.pkl', 'rb'))\n",
    "print(\"Test Statistic: \", stat)\n",
    "print(\"p-value: \", pvalue)"
   ]
  },
  {
   "cell_type": "code",
   "execution_count": null,
   "metadata": {},
   "outputs": [],
   "source": []
  }
 ],
 "metadata": {
  "kernelspec": {
   "display_name": "Python 3",
   "language": "python",
   "name": "python3"
  },
  "language_info": {
   "codemirror_mode": {
    "name": "ipython",
    "version": 3
   },
   "file_extension": ".py",
   "mimetype": "text/x-python",
   "name": "python",
   "nbconvert_exporter": "python",
   "pygments_lexer": "ipython3",
   "version": "3.7.4"
  }
 },
 "nbformat": 4,
 "nbformat_minor": 2
}
