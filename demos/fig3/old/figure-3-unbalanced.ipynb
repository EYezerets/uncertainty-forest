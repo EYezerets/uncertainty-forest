{
 "cells": [
  {
   "cell_type": "code",
   "execution_count": 1,
   "metadata": {},
   "outputs": [
    {
     "name": "stderr",
     "output_type": "stream",
     "text": [
      "/Users/ronak/miniconda3/envs/mgc/lib/python3.7/site-packages/statsmodels/tools/_testing.py:19: FutureWarning: pandas.util.testing is deprecated. Use the functions in the public API at pandas.testing instead.\n",
      "  import pandas.util.testing as tm\n"
     ]
    }
   ],
   "source": [
    "import numpy as np\n",
    "import seaborn as sns\n",
    "import matplotlib.pyplot as plt\n",
    "import pickle\n",
    "import copy\n",
    "\n",
    "# import npeet.entropy_estimators as ee\n",
    "from uncertainty_forest.uncertainty_forest import UncertaintyForest\n",
    "from sklearn.ensemble import RandomForestClassifier\n",
    "from sklearn.calibration import CalibratedClassifierCV\n",
    "\n",
    "from tqdm.notebook import tqdm\n",
    "from joblib import Parallel, delayed\n",
    "from scipy.stats import entropy, multivariate_normal\n",
    "from scipy.integrate import nquad"
   ]
  },
  {
   "cell_type": "code",
   "execution_count": 2,
   "metadata": {},
   "outputs": [],
   "source": [
    "import os,sys,inspect\n",
    "current_dir = os.path.dirname(os.path.abspath(inspect.getfile(inspect.currentframe())))\n",
    "parent_dir = os.path.dirname(current_dir)\n",
    "sys.path.insert(0, parent_dir) \n",
    "import mixed"
   ]
  },
  {
   "cell_type": "code",
   "execution_count": 3,
   "metadata": {},
   "outputs": [],
   "source": [
    "from sklearn.model_selection import train_test_split\n",
    "from sklearn import tree"
   ]
  },
  {
   "cell_type": "markdown",
   "metadata": {},
   "source": [
    "### Taken from Richard's \"Reprod Figure 2\""
   ]
  },
  {
   "cell_type": "code",
   "execution_count": 4,
   "metadata": {},
   "outputs": [
    {
     "name": "stderr",
     "output_type": "stream",
     "text": [
      "/Users/ronak/miniconda3/envs/mgc/lib/python3.7/site-packages/sklearn/utils/deprecation.py:144: FutureWarning: The sklearn.ensemble.forest module is  deprecated in version 0.22 and will be removed in version 0.24. The corresponding classes / functions should instead be imported from sklearn.ensemble. Anything that cannot be imported from sklearn.ensemble is now part of the private API.\n",
      "  warnings.warn(message, FutureWarning)\n"
     ]
    }
   ],
   "source": [
    "from sklearn.ensemble.forest import _generate_unsampled_indices\n",
    "from sklearn.ensemble import BaggingClassifier\n",
    "from sklearn.tree import DecisionTreeClassifier\n",
    "import math"
   ]
  },
  {
   "cell_type": "code",
   "execution_count": 5,
   "metadata": {},
   "outputs": [],
   "source": [
    "def cef_estimate_mike_1(X, y, n_estimators = 200, max_samples = .32, bootstrap = True, depth = 30, min_samples_leaf = 1, max_features = 1.):\n",
    "    model = BaggingClassifier(DecisionTreeClassifier(max_depth = depth, min_samples_leaf = min_samples_leaf, max_features = math.ceil(int(math.sqrt(X.shape[1])))), \n",
    "                              n_estimators = n_estimators, \n",
    "                              max_samples= max_samples, \n",
    "                              bootstrap = bootstrap)\n",
    "    model.fit(X, y)\n",
    "    class_counts = np.zeros((X.shape[0], model.n_classes_))\n",
    "    tree_idx = 0\n",
    "    for tree in model:\n",
    "        \n",
    "        # get out of bag indices.       \n",
    "        # Here's where we obtain unsampled indices.\n",
    "        # unsampled_indices = _generate_unsampled_indices(tree.random_state, len(X), int((1 - max_samples)*len(X)))\n",
    "        sampled_indices = model.estimators_samples_[tree_idx]\n",
    "        unsampled_indices = np.delete(np.arange(0,X.shape[0]), sampled_indices)\n",
    "        tree_idx = tree_idx + 1\n",
    "        # Done with unsampled indices.\n",
    "        \n",
    "        total_unsampled = len(unsampled_indices)\n",
    "        np.random.shuffle(unsampled_indices)\n",
    "        prob_indices, eval_indices = unsampled_indices[:total_unsampled//2], unsampled_indices[total_unsampled//2:]\n",
    "        # get all node counts\n",
    "        node_counts = tree.tree_.n_node_samples\n",
    "        # get probs for eval samples\n",
    "        posterior_class_counts = np.zeros((len(node_counts), model.n_classes_))\n",
    "        for prob_index in prob_indices:\n",
    "            posterior_class_counts[tree.apply(X[prob_index].reshape(1, -1)).item(), y[prob_index]] += 1\n",
    "        row_sums = posterior_class_counts.sum(axis=1)\n",
    "        row_sums[row_sums == 0] = 1\n",
    "        class_probs = (posterior_class_counts/row_sums[:, None])\n",
    "        \n",
    "        where_0 = np.argwhere(class_probs == 0)\n",
    "        for elem in where_0:\n",
    "            class_probs[elem[0], elem[1]] = 1/(2*row_sums[elem[0], None])\n",
    "        where_1 = np.argwhere(class_probs == 1)\n",
    "        for elem in where_1:\n",
    "            class_probs[elem[0], elem[1]] = 1 - 1/(2*row_sums[elem[0], None])\n",
    "        \n",
    "        class_probs.tolist()\n",
    "        partition_counts = np.asarray([node_counts[x] for x in tree.apply(X[eval_indices])])\n",
    "        # get probability for out of bag samples\n",
    "        eval_class_probs = [class_probs[x] for x in tree.apply(X[eval_indices])]\n",
    "        eval_class_probs = np.array(eval_class_probs)\n",
    "        # find total elements for out of bag samples\n",
    "        elems = np.multiply(eval_class_probs, partition_counts[:, np.newaxis])\n",
    "        # store counts for each x (repeat fhis for each tree)\n",
    "        class_counts[eval_indices] += elems\n",
    "    # calculate p(y|X = x) for all x's\n",
    "    probs = class_counts/class_counts.sum(axis = 1, keepdims = True)\n",
    "    entropies = -np.sum(np.log(probs)*probs, axis = 1)\n",
    "    # convert nan to 0\n",
    "    entropies = np.nan_to_num(entropies)\n",
    "    return np.mean(entropies)"
   ]
  },
  {
   "cell_type": "markdown",
   "metadata": {},
   "source": [
    "### Generating data and prediction."
   ]
  },
  {
   "cell_type": "code",
   "execution_count": 6,
   "metadata": {},
   "outputs": [],
   "source": [
    "def generate_data(n, d, pi, mu = 1):\n",
    "    \n",
    "    means, Sigma, probs = _make_params(d, pi, mu = mu)\n",
    "    counts = np.random.multinomial(n, probs, size = 1)[0]\n",
    "    \n",
    "    X_data = []\n",
    "    y_data = []\n",
    "    for k in range(len(probs)):\n",
    "        X_data.append(np.random.multivariate_normal(means[k], Sigma, counts[k]))\n",
    "        y_data.append(np.repeat(k, counts[k]))\n",
    "    X = np.concatenate(tuple(X_data))\n",
    "    y = np.concatenate(tuple(y_data))\n",
    "    \n",
    "    return X, y\n",
    "\n",
    "def _make_params(d, pi, mu = 1):\n",
    "    \n",
    "    mean = np.zeros(d)\n",
    "    mean[0] = mu\n",
    "    means = [mean, -mean]\n",
    "    Sigma = np.eye(d)\n",
    "    probs = [pi, 1 - pi]\n",
    "    \n",
    "    return means, Sigma, probs"
   ]
  },
  {
   "cell_type": "markdown",
   "metadata": {},
   "source": [
    "## Class Prior Plots"
   ]
  },
  {
   "cell_type": "code",
   "execution_count": 7,
   "metadata": {},
   "outputs": [],
   "source": [
    "def compute_mutual_info(d, pi, base = np.exp(1)):\n",
    "    \n",
    "    if d > 1:\n",
    "        dim = 2\n",
    "    else:\n",
    "        dim = 1\n",
    " \n",
    "    means, Sigma, probs = _make_params(dim, pi = pi)\n",
    "    \n",
    "    # Compute entropy and X and Y.\n",
    "    def func(*args):\n",
    "        x = np.array(args)\n",
    "        p = 0\n",
    "        for k in range(len(means)):\n",
    "            p += probs[k] * multivariate_normal.pdf(x, means[k], Sigma)\n",
    "        return -p * np.log(p) / np.log(base)\n",
    "\n",
    "    scale = 15\n",
    "    lims = [[-scale, scale]]*dim\n",
    "    H_X, int_err = nquad(func, lims)\n",
    "    H_Y = entropy(probs, base = base)\n",
    "    \n",
    "    # Compute MI.\n",
    "    H_XY = (dim * np.log(2*np.pi) + np.log(np.linalg.det(Sigma)) + dim) / (2 * np.log(base))\n",
    "    I_XY = H_X - H_XY\n",
    "    \n",
    "    return I_XY, H_X, H_Y"
   ]
  },
  {
   "cell_type": "code",
   "execution_count": 8,
   "metadata": {},
   "outputs": [],
   "source": [
    "def estimate_mi(X, y, label, est_H_Y, norm_factor):\n",
    "    \n",
    "    if label == \"IRF\":\n",
    "        frac_eval = 0.3\n",
    "        irf = CalibratedClassifierCV(base_estimator=RandomForestClassifier(n_estimators = 300), \n",
    "                                     method='isotonic', \n",
    "                                     cv = 5)\n",
    "        # X_train, y_train, X_eval, y_eval = split_train_eval(X, y, frac_eval)\n",
    "        X_train, X_eval, y_train, y_eval = train_test_split(X, y, test_size=frac_eval)\n",
    "        irf.fit(X_train, y_train)\n",
    "        p = irf.predict_proba(X_eval)\n",
    "        return (est_H_Y - np.mean(entropy(p.T, base = np.exp(1)))) / norm_factor\n",
    "    elif label == \"UF\":\n",
    "        return (est_H_Y - cef_estimate_mike_1(np.array(X), y, 300, .32, depth = 30)) / norm_factor\n",
    "    elif label == \"KSG\":\n",
    "        return mixed.KSG(X, y.reshape(-1, 1)) / norm_factor\n",
    "    elif label == \"Mixed KSG\":\n",
    "        return mixed.Mixed_KSG(X, y.reshape(-1, 1)) / norm_factor\n",
    "    else:\n",
    "        raise ValueError(\"Unrecognized Label!\")"
   ]
  },
  {
   "cell_type": "code",
   "execution_count": 9,
   "metadata": {},
   "outputs": [],
   "source": [
    "def get_mutual_info_vs_pi(n, d, pis, num_trials, algos):\n",
    "    \n",
    "    def worker(t):\n",
    "        X, y = generate_data(n, d, pi = elem)\n",
    "        \n",
    "        I_XY, H_X, H_Y = compute_mutual_info(d, elem)\n",
    "        norm_factor = min(H_X, H_Y)\n",
    "        \n",
    "        _, counts = np.unique(y, return_counts=True)\n",
    "        est_H_Y = entropy(counts, base=np.exp(1))\n",
    "        \n",
    "        ret = []\n",
    "        for algo in algos:\n",
    "            ret.append(estimate_mi(X, y, algo['label'], est_H_Y, norm_factor))\n",
    "\n",
    "        return tuple(ret)\n",
    "    \n",
    "    output = np.zeros((len(algos), len(pis), num_trials))\n",
    "    for i, elem in enumerate(pis):\n",
    "        results = np.array(Parallel(n_jobs=-2)(delayed(worker)(t) for t in range(num_trials)))\n",
    "        for j in range(len(algos)):\n",
    "            output[j, i, :] = results[:, j]\n",
    "    \n",
    "    pickle.dump(pis, open('pis.pkl', 'wb'))\n",
    "    for j, algo in enumerate(algos):\n",
    "        pickle.dump(output[j], open('%s_by_pi_d_%d.pkl' % (algo['label'], d), 'wb'))\n",
    "        \n",
    "    return output"
   ]
  },
  {
   "cell_type": "code",
   "execution_count": 17,
   "metadata": {},
   "outputs": [],
   "source": [
    "# Takes 'd'.\n",
    "def plot_mutual_info_by_pi(algos, d, ax):\n",
    "    pis = pickle.load(open('pis.pkl', 'rb'))\n",
    "    for j, algo in enumerate(algos):\n",
    "        result = pickle.load(open('%s_by_pi_d_%d.pkl' % (algo['label'], d), 'rb'))\n",
    "        # Plot the mean over trials as a solid line.\n",
    "        ax.plot(pis,\n",
    "                np.mean(result, axis = 1).flatten(), \n",
    "                label = algo['label'], \n",
    "                linewidth = 4, \n",
    "                color = algo['color'])\n",
    "\n",
    "    truth = pickle.load(open('truth_d_%d.pkl' % d, 'rb'))\n",
    "    ax.plot(pis, truth, label = 'Truth', linewidth = 2, color = 'black')\n",
    "\n",
    "    ax.set_xlabel(\"Class Prior\")\n",
    "    ax.set_xlim(left = np.amin(pis) - 0.05)\n",
    "    ax.set_xlim(right = np.amax(pis) + 0.05)\n",
    "    ax.set_ylim((-0.05, 0.65))\n",
    "    ax.set_ylabel(\"Estimated Normalized MI\")"
   ]
  },
  {
   "cell_type": "code",
   "execution_count": 11,
   "metadata": {},
   "outputs": [],
   "source": [
    "# Compute true values for normalized mutual info.\n",
    "def compute_truth(d, pis):\n",
    "    truth = np.zeros(len(pis))\n",
    "    for i in range(len(pis)):\n",
    "        I_XY, H_X, H_Y = compute_mutual_info(d, pis[i])\n",
    "        truth[i] = I_XY / min(H_X, H_Y)\n",
    "        \n",
    "    pickle.dump(truth, open('truth_d_%d.pkl' % d, 'wb'))"
   ]
  },
  {
   "cell_type": "code",
   "execution_count": 12,
   "metadata": {},
   "outputs": [],
   "source": [
    "# Data.\n",
    "n1 = 6000\n",
    "n2 = 10000\n",
    "pis = [0.05 * i for i in range(1, 20)]\n",
    "num_trials = 20\n",
    "d1 = 1\n",
    "d2 = 20\n",
    "\n",
    "# Fake params\n",
    "# n1 = 200\n",
    "# n2 = 250\n",
    "# pis = [0.05 * i for i in range(1, 4)]\n",
    "# num_trials = 3\n",
    "# d1 = 1\n",
    "# d2 = 2\n",
    "\n",
    "\n",
    "# Algorithms.\n",
    "algos = [\n",
    "    {\n",
    "        'label': 'IRF',\n",
    "        'title': 'Isotonic Reg. Forest',\n",
    "        'color': \"#fdae61\",\n",
    "    },\n",
    "    {\n",
    "        'label': 'KSG',\n",
    "        'title': 'KSG',\n",
    "        'color': \"#1b9e77\",\n",
    "    },\n",
    "    {\n",
    "        'label': 'Mixed KSG',\n",
    "        'title': 'Mixed KSG',\n",
    "        'color': \"purple\",\n",
    "    },\n",
    "    {\n",
    "        'label': 'UF',\n",
    "        'title': 'Uncertainty Forest',\n",
    "        'color': \"#F41711\",\n",
    "    },\n",
    "]"
   ]
  },
  {
   "cell_type": "code",
   "execution_count": 17,
   "metadata": {},
   "outputs": [],
   "source": [
    "compute_truth(d1, pis)\n",
    "compute_truth(d2, pis)"
   ]
  },
  {
   "cell_type": "code",
   "execution_count": 14,
   "metadata": {},
   "outputs": [
    {
     "data": {
      "text/plain": [
       "array([[[0.05267607, 0.05147073, 0.05386431, ..., 0.04541061,\n",
       "         0.04105679, 0.05436102],\n",
       "        [0.10034434, 0.10031607, 0.08329426, ..., 0.10437081,\n",
       "         0.11795309, 0.11968105],\n",
       "        [0.1194452 , 0.138246  , 0.13081513, ..., 0.13636661,\n",
       "         0.13581646, 0.15792389],\n",
       "        ...,\n",
       "        [0.1217055 , 0.14282681, 0.14170609, ..., 0.13676508,\n",
       "         0.14580427, 0.14655045],\n",
       "        [0.09699339, 0.07989797, 0.10704884, ..., 0.08522504,\n",
       "         0.09698198, 0.08607422],\n",
       "        [0.05721057, 0.04448843, 0.0506452 , ..., 0.06630082,\n",
       "         0.04779264, 0.04604624]],\n",
       "\n",
       "       [[0.42008496, 0.4160005 , 0.43127188, ..., 0.35294356,\n",
       "         0.39935326, 0.42729432],\n",
       "        [0.41290253, 0.44397413, 0.44645472, ..., 0.43558188,\n",
       "         0.44024718, 0.46734474],\n",
       "        [0.43271873, 0.48007229, 0.44142681, ..., 0.44045357,\n",
       "         0.4757846 , 0.46665746],\n",
       "        ...,\n",
       "        [0.44915377, 0.43545723, 0.4656031 , ..., 0.44706723,\n",
       "         0.47301379, 0.44130035],\n",
       "        [0.47359138, 0.40588234, 0.44500903, ..., 0.41077838,\n",
       "         0.42206896, 0.42274917],\n",
       "        [0.39376457, 0.40161801, 0.38227106, ..., 0.40608237,\n",
       "         0.40108069, 0.38888872]],\n",
       "\n",
       "       [[0.41842399, 0.41432108, 0.42958982, ..., 0.35126146,\n",
       "         0.39767094, 0.42561245],\n",
       "        [0.41311704, 0.44294778, 0.44542844, ..., 0.43455555,\n",
       "         0.43922084, 0.46631845],\n",
       "        [0.43192964, 0.47928319, 0.44138775, ..., 0.43966446,\n",
       "         0.47499551, 0.46586838],\n",
       "        ...,\n",
       "        [0.44836469, 0.43472754, 0.46481403, ..., 0.44627814,\n",
       "         0.47222508, 0.44051129],\n",
       "        [0.47256512, 0.40485597, 0.44398268, ..., 0.40975205,\n",
       "         0.4210434 , 0.4217228 ],\n",
       "        [0.39208218, 0.39993601, 0.38313606, ..., 0.40440295,\n",
       "         0.39941507, 0.38720661]],\n",
       "\n",
       "       [[0.07564167, 0.07415117, 0.0776313 , ..., 0.06181084,\n",
       "         0.06973151, 0.07632433],\n",
       "        [0.11913163, 0.13424784, 0.13431038, ..., 0.13306597,\n",
       "         0.1332871 , 0.13820605],\n",
       "        [0.16983662, 0.18852943, 0.16852354, ..., 0.17236369,\n",
       "         0.18860592, 0.18088886],\n",
       "        ...,\n",
       "        [0.17321986, 0.17355245, 0.1796636 , ..., 0.17223133,\n",
       "         0.18783777, 0.17263157],\n",
       "        [0.14059368, 0.12028012, 0.13141237, ..., 0.11804945,\n",
       "         0.12617897, 0.12381883],\n",
       "        [0.06960631, 0.06693253, 0.06541631, ..., 0.0719423 ,\n",
       "         0.07098309, 0.06923362]]])"
      ]
     },
     "execution_count": 14,
     "metadata": {},
     "output_type": "execute_result"
    }
   ],
   "source": [
    "get_mutual_info_vs_pi(n1, d1, pis, num_trials, algos)"
   ]
  },
  {
   "cell_type": "code",
   "execution_count": 15,
   "metadata": {},
   "outputs": [
    {
     "data": {
      "text/plain": [
       "array([[[6.62816449e-02, 6.65581822e-02, 7.57555111e-02, ...,\n",
       "         8.06258894e-02, 7.45417117e-02, 7.84797905e-02],\n",
       "        [1.36982148e-01, 1.34629623e-01, 1.35296094e-01, ...,\n",
       "         1.36885512e-01, 1.29647216e-01, 1.38302045e-01],\n",
       "        [1.76285874e-01, 1.73607276e-01, 1.89736936e-01, ...,\n",
       "         1.92126562e-01, 1.73372990e-01, 1.76862827e-01],\n",
       "        ...,\n",
       "        [1.92816451e-01, 1.83085385e-01, 1.92447033e-01, ...,\n",
       "         1.70774111e-01, 1.87423527e-01, 1.96664194e-01],\n",
       "        [1.34422490e-01, 1.38302507e-01, 1.24211854e-01, ...,\n",
       "         1.29056349e-01, 1.30174745e-01, 1.33422583e-01],\n",
       "        [7.18784893e-02, 8.52846717e-02, 6.48857301e-02, ...,\n",
       "         8.49346370e-02, 7.70411465e-02, 7.62882534e-02]],\n",
       "\n",
       "       [[7.55664058e-04, 7.55664058e-04, 7.55664058e-04, ...,\n",
       "         7.55664058e-04, 7.55664058e-04, 7.55664058e-04],\n",
       "        [4.61453987e-04, 4.61453987e-04, 4.61453987e-04, ...,\n",
       "         4.61453987e-04, 4.61453987e-04, 4.61453987e-04],\n",
       "        [3.54879606e-04, 3.54879606e-04, 3.54879606e-04, ...,\n",
       "         3.54879606e-04, 3.54879606e-04, 3.54879606e-04],\n",
       "        ...,\n",
       "        [3.54879606e-04, 3.54879606e-04, 3.54879606e-04, ...,\n",
       "         3.54879606e-04, 3.54879606e-04, 3.54879606e-04],\n",
       "        [4.61453987e-04, 4.61453987e-04, 4.61453987e-04, ...,\n",
       "         4.61453987e-04, 4.61453987e-04, 4.61453987e-04],\n",
       "        [7.55664058e-04, 7.55664058e-04, 7.55664058e-04, ...,\n",
       "         7.55664058e-04, 7.55664058e-04, 7.55664058e-04]],\n",
       "\n",
       "       [[2.51874025e-04, 2.51874025e-04, 2.51874025e-04, ...,\n",
       "         2.51874025e-04, 2.51874025e-04, 2.51874025e-04],\n",
       "        [1.53809450e-04, 1.53809450e-04, 1.53809450e-04, ...,\n",
       "         1.53809450e-04, 1.53809450e-04, 1.53809450e-04],\n",
       "        [1.18286630e-04, 1.18286630e-04, 1.18286630e-04, ...,\n",
       "         1.18286630e-04, 1.18286630e-04, 1.18286630e-04],\n",
       "        ...,\n",
       "        [1.18286630e-04, 1.18286630e-04, 1.18286630e-04, ...,\n",
       "         1.18286630e-04, 1.18286630e-04, 1.18286630e-04],\n",
       "        [1.53809450e-04, 1.53809450e-04, 1.53809450e-04, ...,\n",
       "         1.53809450e-04, 1.53809450e-04, 1.53809450e-04],\n",
       "        [2.51874025e-04, 2.51874025e-04, 2.51874025e-04, ...,\n",
       "         2.51874025e-04, 2.51874025e-04, 2.51874025e-04]],\n",
       "\n",
       "       [[8.64951542e-02, 8.23580786e-02, 9.07329055e-02, ...,\n",
       "         9.30800640e-02, 8.38080696e-02, 9.66412516e-02],\n",
       "        [1.49900119e-01, 1.47801015e-01, 1.42075027e-01, ...,\n",
       "         1.54429650e-01, 1.39444674e-01, 1.48709362e-01],\n",
       "        [1.90464675e-01, 1.84930069e-01, 2.00570781e-01, ...,\n",
       "         1.97724483e-01, 1.86762383e-01, 1.91438963e-01],\n",
       "        ...,\n",
       "        [2.02949016e-01, 1.97439704e-01, 1.89461938e-01, ...,\n",
       "         1.86657314e-01, 1.92885768e-01, 1.96479799e-01],\n",
       "        [1.41438078e-01, 1.48642767e-01, 1.42373030e-01, ...,\n",
       "         1.44699344e-01, 1.43445572e-01, 1.51562429e-01],\n",
       "        [9.14909391e-02, 9.61872360e-02, 8.37981439e-02, ...,\n",
       "         1.03646602e-01, 9.44171097e-02, 8.87040260e-02]]])"
      ]
     },
     "execution_count": 15,
     "metadata": {},
     "output_type": "execute_result"
    }
   ],
   "source": [
    "get_mutual_info_vs_pi(n2, d2, pis, num_trials, algos)"
   ]
  },
  {
   "cell_type": "code",
   "execution_count": 13,
   "metadata": {},
   "outputs": [],
   "source": [
    "def plot_fig3b(algos, d1, d2):\n",
    "    sns.set(font_scale = 1.5)\n",
    "    sns.set_style(\"ticks\")\n",
    "    plt.rcParams[\"font.family\"] = \"sans-serif\"\n",
    "    fig, axes = plt.subplots(1, 2, figsize = (19,10))\n",
    "\n",
    "    plot_mutual_info_by_pi(algos, d1, axes[0])\n",
    "    plot_mutual_info_by_pi(algos, d2, axes[1])\n",
    "        \n",
    "    axes[0].set_title('d = %d' % d1)\n",
    "    axes[1].set_title('d = %d' % d2)\n",
    "    axes[1].legend(loc = \"upper right\")\n",
    "\n",
    "    plt.yticks(fontsize = 20)\n",
    "    plt.xticks(fontsize = 20)\n",
    "    plt.tight_layout()\n",
    "    plt.savefig(\"fig3b.pdf\")\n",
    "    plt.show()"
   ]
  },
  {
   "cell_type": "code",
   "execution_count": 19,
   "metadata": {},
   "outputs": [],
   "source": [
    "# Correct normalizing factor for UF and IRF\n",
    "# pis = pickle.load(open('pis.pkl', 'rb'))\n",
    "# for label in [\"UF\", \"IRF\"]:\n",
    "#     for d in [d1, d2]:\n",
    "#         result = pickle.load(open('%s_by_pi_d_%d.pkl' % (label, d), 'rb'))\n",
    "#         for i, pi in enumerate(pis):\n",
    "#             I_XY, H_X, H_Y = compute_mutual_info(d, pi)\n",
    "#             norm_factor = min(H_X, H_Y)\n",
    "#             result[i, :] /= norm_factor\n",
    "#         pickle.dump(result, open('%s_by_pi_d_%d.pkl' % (label, d), 'wb'))"
   ]
  },
  {
   "cell_type": "code",
   "execution_count": 18,
   "metadata": {},
   "outputs": [
    {
     "data": {
      "image/png": "[encoded data removed]",
      "text/plain": [
       "<Figure size 1368x720 with 2 Axes>"
      ]
     },
     "metadata": {},
     "output_type": "display_data"
    }
   ],
   "source": [
    "# Run settings cell first.\n",
    "plot_fig3b(algos, d1, d2)"
   ]
  },
  {
   "cell_type": "code",
   "execution_count": null,
   "metadata": {},
   "outputs": [],
   "source": []
  }
 ],
 "metadata": {
  "kernelspec": {
   "display_name": "Python 3",
   "language": "python",
   "name": "python3"
  },
  "language_info": {
   "codemirror_mode": {
    "name": "ipython",
    "version": 3
   },
   "file_extension": ".py",
   "mimetype": "text/x-python",
   "name": "python",
   "nbconvert_exporter": "python",
   "pygments_lexer": "ipython3",
   "version": "3.7.4"
  }
 },
 "nbformat": 4,
 "nbformat_minor": 2
}
