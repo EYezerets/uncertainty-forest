{
 "cells": [
  {
   "cell_type": "code",
   "execution_count": null,
   "metadata": {},
   "outputs": [],
   "source": [
    "import numpy as np\n",
    "import seaborn as sns\n",
    "import matplotlib.pyplot as plt\n",
    "import pickle\n",
    "\n",
    "from uncertainty_forest.uncertainty_forest import UncertaintyForest\n",
    "from sklearn.ensemble import RandomForestClassifier\n",
    "from sklearn.calibration import CalibratedClassifierCV\n",
    "from tqdm.notebook import tqdm\n",
    "from joblib import Parallel, delayed\n",
    "from scipy.stats import entropy, norm\n",
    "from scipy.integrate import quad"
   ]
  },
  {
   "cell_type": "code",
   "execution_count": null,
   "metadata": {},
   "outputs": [],
   "source": [
    "def generate_data(n, d, frac_eval, mu = 1):\n",
    "    n_1 = np.random.binomial(n, .5) # number of class 1\n",
    "    mean = np.zeros(d)\n",
    "    mean[0] = mu\n",
    "    X_1 = np.random.multivariate_normal(mean, np.eye(d), n_1)\n",
    "    \n",
    "    X = np.concatenate((X_1, np.random.multivariate_normal(-mean, np.eye(d), n - n_1)))\n",
    "    y = np.concatenate((np.repeat(1, n_1), np.repeat(-1, n - n_1)))\n",
    "    \n",
    "    # Evaluation data.\n",
    "    if frac_eval == 0:\n",
    "        return X, y\n",
    "    n_eval = int(np.floor(frac_eval*n))\n",
    "    eval_indices = np.random.choice(np.arange(n), size = n_eval, replace = False)\n",
    "    X_eval = X[eval_indices, :]\n",
    "    X = np.delete(X, eval_indices, axis = 0)\n",
    "    y = np.delete(y, eval_indices, axis = 0)\n",
    "    return X, y, X_eval"
   ]
  },
  {
   "cell_type": "code",
   "execution_count": null,
   "metadata": {},
   "outputs": [],
   "source": [
    "def conditional_entropy_distribution(n, d, frac_eval, algos, num_trials, mu, parallel = False):\n",
    "    # For each trial, generate data and compute conditional entropy for each algorithm.\n",
    "    def worker(t):\n",
    "        # X, y, X_eval = generate_data(n, d, frac_eval, mu = mu)\n",
    "        X, y = generate_data(n, d, 0, mu = mu)\n",
    "        ret = np.zeros(len(algos))\n",
    "        for i in range(len(algos)):\n",
    "            obj = algos[i]['instance']\n",
    "            obj.fit(X, y)\n",
    "            if algos[i]['label'] == 'UF':\n",
    "                ret[i] = obj.estimate_cond_entropy()\n",
    "            else:\n",
    "                p = obj.predict_proba(X)\n",
    "                ret[i] = np.mean(entropy(p.T, base = 2))\n",
    "        return ret\n",
    "    \n",
    "    if parallel:\n",
    "        predicted_cond_entropy = np.array(Parallel(n_jobs=-2)(delayed(worker)(t) for t in range(num_trials)))\n",
    "    else:\n",
    "        predicted_cond_entropy = np.zeros((num_trials, len(algos)))\n",
    "        for t in tqdm(range(num_trials)):\n",
    "            predicted_cond_entropy[t, :] = worker(t)\n",
    "            \n",
    "    return predicted_cond_entropy"
   ]
  },
  {
   "cell_type": "code",
   "execution_count": null,
   "metadata": {},
   "outputs": [],
   "source": [
    "def true_cond_entropy(mu):\n",
    "    def func(x):\n",
    "        p = 0.5 * norm.pdf(x, mu, 1) + 0.5 * norm.pdf(x, -mu, 1)\n",
    "        return -p * np.log2(p)\n",
    "    \n",
    "    H_X = quad(func, -20, 20)\n",
    "    H_XY = 0.5*(1.0/np.log(2.0) + np.log2(2 * np.pi))\n",
    "    H_Y = 1\n",
    "    # I_XY = H_X - H_XY = H_Y - H_YX\n",
    "    return H_Y - H_X[0] + H_XY"
   ]
  },
  {
   "cell_type": "code",
   "execution_count": null,
   "metadata": {},
   "outputs": [],
   "source": [
    "def conditional_entropy_by_d(n, ds, frac_eval, algos, num_trials, mu, parallel = False):\n",
    "    # Repeat for all 'd', and save output in the 'algos' array.\n",
    "    cond_entropy_range = np.zeros((len(ds), num_trials, len(algos)))\n",
    "    for i in range(len(ds)):\n",
    "        cond_entropy_range[i, :, :] = conditional_entropy_distribution(n, \n",
    "                                                                       ds[i], \n",
    "                                                                       frac_eval, \n",
    "                                                                       algos, \n",
    "                                                                       num_trials, \n",
    "                                                                       mu,\n",
    "                                                                       parallel = parallel)\n",
    "        \n",
    "    for j in range(len(algos)):\n",
    "        algos[j]['cond_entropy_by_d_n_%d' % n] = cond_entropy_range[:, :, j]\n",
    "        \n",
    "    with open('algos_fig2.pkl', 'wb') as f:\n",
    "        pickle.dump(algos, f)\n",
    "    with open('ds_n_%d.pkl' % n, 'wb') as f:\n",
    "        pickle.dump(ds, f)"
   ]
  },
  {
   "cell_type": "code",
   "execution_count": null,
   "metadata": {},
   "outputs": [],
   "source": [
    "def plot_cond_entropy_by_d(ax, num_plotted_trials, n, mu = 1):\n",
    "    with open('ds_n_%d.pkl' % n, 'rb') as f:\n",
    "        ds = pickle.load(f)\n",
    "    with open('algos_fig2.pkl', 'rb') as f:\n",
    "        algos = pickle.load(f)\n",
    "    \n",
    "    for algo in algos:\n",
    "        # Plot the mean over trials as a solid line.\n",
    "        ax.plot(ds,\n",
    "                np.mean(algo['cond_entropy_by_d_n_%d' % n], axis = 1).flatten(), \n",
    "                label = algo['label'], \n",
    "                linewidth = 3, \n",
    "                color = algo['color'])\n",
    "        # Use transparent lines to show other trials.\n",
    "        for t in range(num_plotted_trials):\n",
    "            ax.plot(ds, \n",
    "                    algo['cond_entropy_by_d_n_%d' % n][:, t].flatten(),  \n",
    "                    linewidth = 1.5, \n",
    "                    color = algo['color'],\n",
    "                    alpha = 0.15)\n",
    "    \n",
    "    truth = true_cond_entropy(mu)\n",
    "    ax.axhline(y = truth, linestyle = '-', color = \"black\", label = \"Truth\")\n",
    "            \n",
    "    ax.set_xlabel(\"Dimensionality\")\n",
    "    ax.set_ylabel(\"Estimated Conditional Entropy\")\n",
    "    ax.set_title(\"Effect Size = %.1f, n = %d\" % (mu, n))\n",
    "    ax.set_ylim(ymin = -0.05, ymax = 1.05)"
   ]
  },
  {
   "cell_type": "code",
   "execution_count": null,
   "metadata": {},
   "outputs": [],
   "source": [
    "def plot_fig7(num_plotted_trials, n0, n1, n2):\n",
    "    sns.set(font_scale = 1.5)\n",
    "    sns.set_style(\"ticks\")\n",
    "    plt.rcParams[\"font.family\"] = \"sans-serif\"\n",
    "    plt.rcParams['figure.figsize'] = [8, 20]\n",
    "    fig, axes = plt.subplots(3, 1)\n",
    "    \n",
    "    plot_cond_entropy_by_d(axes[0], num_plotted_trials, n0)\n",
    "    plot_cond_entropy_by_d(axes[1], num_plotted_trials, n1)\n",
    "    plot_cond_entropy_by_d(axes[2], num_plotted_trials, n2)\n",
    "                                                  \n",
    "    axes[0].legend(loc = \"upper left\")\n",
    "    \n",
    "    plt.tight_layout()\n",
    "    plt.savefig(\"fig7.pdf\")\n",
    "    plt.show()"
   ]
  },
  {
   "cell_type": "code",
   "execution_count": null,
   "metadata": {},
   "outputs": [],
   "source": [
    "# Data.\n",
    "n_estimators = 300\n",
    "frac_eval = 0\n",
    "mu = 1\n",
    "ds = range(1, 21)\n",
    "n0 = 1000\n",
    "n1 = 3000\n",
    "n2 = 8000\n",
    "num_trials = 40\n",
    "num_plotted_trials = 10\n",
    "parallel = True\n",
    "\n",
    "# Algorithms.\n",
    "algos = [\n",
    "    {\n",
    "        'instance': RandomForestClassifier(n_estimators = n_estimators),\n",
    "        'label': 'CART',\n",
    "        'title': 'CART Forest',\n",
    "        'color': \"#1b9e77\",\n",
    "    },\n",
    "    {\n",
    "        'instance': CalibratedClassifierCV(base_estimator=RandomForestClassifier(n_estimators = n_estimators), \n",
    "                                           method='isotonic', \n",
    "                                           cv = 5),\n",
    "        'label': 'IRF',\n",
    "        'title': 'Isotonic Reg. Forest',\n",
    "        'color': \"#fdae61\",\n",
    "    },\n",
    "    {\n",
    "        'instance': UncertaintyForest(n_estimators = n_estimators),\n",
    "        'label': 'UF',\n",
    "        'title': 'Uncertainty Forest',\n",
    "        'color': \"#F41711\",\n",
    "    },\n",
    "]"
   ]
  },
  {
   "cell_type": "code",
   "execution_count": null,
   "metadata": {},
   "outputs": [],
   "source": [
    "conditional_entropy_by_d(n0, ds, frac_eval, algos, num_trials, mu, parallel = parallel)"
   ]
  },
  {
   "cell_type": "code",
   "execution_count": null,
   "metadata": {},
   "outputs": [],
   "source": [
    "conditional_entropy_by_d(n1, ds, frac_eval, algos, num_trials, mu, parallel = parallel)"
   ]
  },
  {
   "cell_type": "code",
   "execution_count": null,
   "metadata": {},
   "outputs": [],
   "source": [
    "conditional_entropy_by_d(n2, ds, frac_eval, algos, num_trials, mu, parallel = parallel)"
   ]
  },
  {
   "cell_type": "code",
   "execution_count": null,
   "metadata": {},
   "outputs": [],
   "source": [
    "plot_fig7(num_plotted_trials, n0, n1, n2)"
   ]
  },
  {
   "cell_type": "code",
   "execution_count": null,
   "metadata": {},
   "outputs": [],
   "source": []
  }
 ],
 "metadata": {
  "kernelspec": {
   "display_name": "Python 3",
   "language": "python",
   "name": "python3"
  },
  "language_info": {
   "codemirror_mode": {
    "name": "ipython",
    "version": 3
   },
   "file_extension": ".py",
   "mimetype": "text/x-python",
   "name": "python",
   "nbconvert_exporter": "python",
   "pygments_lexer": "ipython3",
   "version": "3.7.4"
  }
 },
 "nbformat": 4,
 "nbformat_minor": 2
}
