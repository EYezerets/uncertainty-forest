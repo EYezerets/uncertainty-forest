{
 "cells": [
  {
   "cell_type": "code",
   "execution_count": 1,
   "metadata": {},
   "outputs": [],
   "source": [
    "import pandas as pd\n",
    "import numpy as np\n",
    "import pickle\n",
    "\n",
    "from sklearn.ensemble import BaggingClassifier\n",
    "from sklearn.tree import DecisionTreeClassifier\n",
    "from scipy.stats import entropy\n",
    "\n",
    "from joblib import Parallel, delayed"
   ]
  },
  {
   "cell_type": "code",
   "execution_count": 2,
   "metadata": {},
   "outputs": [
    {
     "name": "stdout",
     "output_type": "stream",
     "text": [
      "       v type  claw        dist  age  cluster\n",
      "0      0   KC   2.0   337.63801    0        1\n",
      "1      1   KC   1.0     0.00000    0        1\n",
      "2      2   KC   1.0  1291.20357    0        1\n",
      "3      3   KC   1.0   252.63347    0        1\n",
      "4      4   KC   2.0  1822.29525    0        1\n",
      "..   ...  ...   ...         ...  ...      ...\n",
      "208  208   PN   0.0     0.00000   -1        6\n",
      "209  209   PN   0.0     0.00000   -1        6\n",
      "210  210   PN   0.0     0.00000   -1        6\n",
      "211  211   PN   0.0     0.00000   -1        6\n",
      "212  212   PN   0.0     0.00000   -1        6\n",
      "\n",
      "[213 rows x 6 columns]\n",
      "(213, 4)\n",
      "(213,)\n"
     ]
    }
   ],
   "source": [
    "# Load data\n",
    "data = pd.read_csv(\"vdf.csv\")\n",
    "\n",
    "data.age = pd.factorize(data.age)[0]\n",
    "data.v = pd.factorize(data.v)[0]\n",
    "data = data.fillna(0)\n",
    "print(data)\n",
    "\n",
    "col_names = [\"claw\", \"dist\", \"age\", \"cluster\"]\n",
    "X = np.array(data[col_names])\n",
    "y = np.array(pd.factorize(data.type)[0])\n",
    "print(X.shape)\n",
    "print(y.shape)"
   ]
  },
  {
   "cell_type": "code",
   "execution_count": 3,
   "metadata": {},
   "outputs": [],
   "source": [
    "def cef_estimate_mike_1(X, y, n_estimators = 200, max_samples = .32, bootstrap = True, depth = 30, min_samples_leaf = 1, max_features = 1.):\n",
    "    model = BaggingClassifier(DecisionTreeClassifier(max_depth = depth, min_samples_leaf = min_samples_leaf, max_features = int(np.ceil(np.sqrt(X.shape[1])))), \n",
    "                              n_estimators = n_estimators, \n",
    "                              max_samples= max_samples, \n",
    "                              bootstrap = bootstrap)\n",
    "    model.fit(X, y)\n",
    "    class_counts = np.zeros((X.shape[0], model.n_classes_))\n",
    "    tree_idx = 0\n",
    "    for tree in model:\n",
    "        \n",
    "        # get out of bag indices.       \n",
    "        # Here's where we obtain unsampled indices.\n",
    "        # unsampled_indices = _generate_unsampled_indices(tree.random_state, len(X), int((1 - max_samples)*len(X)))\n",
    "        sampled_indices = model.estimators_samples_[tree_idx]\n",
    "        unsampled_indices = np.delete(np.arange(0,X.shape[0]), sampled_indices)\n",
    "        tree_idx = tree_idx + 1\n",
    "        # Done with unsampled indices.\n",
    "        \n",
    "        total_unsampled = len(unsampled_indices)\n",
    "        np.random.shuffle(unsampled_indices)\n",
    "        prob_indices, eval_indices = unsampled_indices[:total_unsampled//2], unsampled_indices[total_unsampled//2:]\n",
    "        # get all node counts\n",
    "        node_counts = tree.tree_.n_node_samples\n",
    "        # get probs for eval samples\n",
    "        posterior_class_counts = np.zeros((len(node_counts), model.n_classes_))\n",
    "        for prob_index in prob_indices:\n",
    "            posterior_class_counts[tree.apply(X[prob_index].reshape(1, -1)).item(), y[prob_index]] += 1\n",
    "        row_sums = posterior_class_counts.sum(axis=1)\n",
    "        row_sums[row_sums == 0] = 1\n",
    "        class_probs = (posterior_class_counts/row_sums[:, None])\n",
    "        \n",
    "        where_0 = np.argwhere(class_probs == 0)\n",
    "        for elem in where_0:\n",
    "            class_probs[elem[0], elem[1]] = 1/(2*row_sums[elem[0], None])\n",
    "        where_1 = np.argwhere(class_probs == 1)\n",
    "        for elem in where_1:\n",
    "            class_probs[elem[0], elem[1]] = 1 - 1/(2*row_sums[elem[0], None])\n",
    "        \n",
    "        class_probs.tolist()\n",
    "        partition_counts = np.asarray([node_counts[x] for x in tree.apply(X[eval_indices])])\n",
    "        # get probability for out of bag samples\n",
    "        eval_class_probs = [class_probs[x] for x in tree.apply(X[eval_indices])]\n",
    "        eval_class_probs = np.array(eval_class_probs)\n",
    "        # find total elements for out of bag samples\n",
    "        elems = np.multiply(eval_class_probs, partition_counts[:, np.newaxis])\n",
    "        # store counts for each x (repeat fhis for each tree)\n",
    "        class_counts[eval_indices] += elems\n",
    "    # calculate p(y|X = x) for all x's\n",
    "    probs = class_counts/class_counts.sum(axis = 1, keepdims = True)\n",
    "    entropies = -np.sum(np.log(probs)*probs, axis = 1)\n",
    "    # convert nan to 0\n",
    "    entropies = np.nan_to_num(entropies)\n",
    "    return np.mean(entropies)\n",
    "\n",
    "def entropy_estimate(y, base = np.exp(1)):\n",
    "    _, counts = np.unique(y, return_counts=True)\n",
    "    return entropy(counts, base=base)\n",
    "\n",
    "def estimate_mi(X, y):\n",
    "    H_Y = entropy_estimate(y)\n",
    "    H_YX = cef_estimate_mike_1(X, y)\n",
    "    return H_Y - H_YX"
   ]
  },
  {
   "cell_type": "code",
   "execution_count": 4,
   "metadata": {},
   "outputs": [],
   "source": [
    "def _perm_stat(calc_stat, x, y):\n",
    "    permy = np.random.permutation(y)\n",
    "    perm_stat = calc_stat(x, permy)\n",
    "\n",
    "    return perm_stat\n",
    "\n",
    "def perm_test(calc_stat, X, y, reps=1000, workers=1):\n",
    "    \"\"\"\n",
    "    Calculate the p-value via permutation\n",
    "    \"\"\"\n",
    "    # calculate observed test statistic\n",
    "    stat = calc_stat(X, y)\n",
    "\n",
    "    # calculate null distribution\n",
    "    null_dist = np.array(\n",
    "        Parallel(n_jobs=workers)(\n",
    "            [delayed(_perm_stat)(calc_stat, X, y) for rep in range(reps)]\n",
    "        )\n",
    "    )\n",
    "    pvalue = (null_dist >= stat).sum() / reps\n",
    "\n",
    "    # correct for a p-value of 0. This is because, with bootstrapping\n",
    "    # permutations, a p-value of 0 is incorrect\n",
    "    if pvalue == 0:\n",
    "        pvalue = 1 / reps\n",
    "\n",
    "    return stat, pvalue"
   ]
  },
  {
   "cell_type": "code",
   "execution_count": 5,
   "metadata": {},
   "outputs": [
    {
     "name": "stdout",
     "output_type": "stream",
     "text": [
      "Test Statistic:  0.8317348955841228\n",
      "p-value:  0.2\n"
     ]
    }
   ],
   "source": [
    "reps = 1000\n",
    "\n",
    "stat, pvalue = perm_test(estimate_mi, X, y, reps=reps, workers=-2)\n",
    "print(\"Test Statistic: \", stat)\n",
    "print(\"p-value: \", pvalue)\n",
    "\n",
    "pickle.dump((stat, pvalue), open('stat_pval.pkl', 'wb'))"
   ]
  },
  {
   "cell_type": "code",
   "execution_count": 6,
   "metadata": {},
   "outputs": [
    {
     "name": "stdout",
     "output_type": "stream",
     "text": [
      "Test Statistic:  0.8317348955841228\n",
      "p-value:  0.2\n"
     ]
    }
   ],
   "source": [
    "stat, pvalue = pickle.load(open('stat_pval.pkl', 'rb'))\n",
    "print(\"Test Statistic: \", stat)\n",
    "print(\"p-value: \", pvalue)"
   ]
  }
 ],
 "metadata": {
  "kernelspec": {
   "display_name": "Python 3",
   "language": "python",
   "name": "python3"
  },
  "language_info": {
   "codemirror_mode": {
    "name": "ipython",
    "version": 3
   },
   "file_extension": ".py",
   "mimetype": "text/x-python",
   "name": "python",
   "nbconvert_exporter": "python",
   "pygments_lexer": "ipython3",
   "version": "3.7.4"
  }
 },
 "nbformat": 4,
 "nbformat_minor": 2
}
