{
 "cells": [
  {
   "cell_type": "code",
   "execution_count": null,
   "metadata": {},
   "outputs": [],
   "source": [
    "import numpy as np\n",
    "import seaborn as sns\n",
    "import matplotlib.pyplot as plt\n",
    "import pickle\n",
    "\n",
    "from uncertainty_forest.uncertainty_forest import UncertaintyForest\n",
    "from sklearn.ensemble import RandomForestClassifier\n",
    "from sklearn.calibration import CalibratedClassifierCV\n",
    "from tqdm.notebook import tqdm\n",
    "from joblib import Parallel, delayed\n",
    "from scipy.stats import entropy, norm\n",
    "from scipy.integrate import quad"
   ]
  },
  {
   "cell_type": "code",
   "execution_count": null,
   "metadata": {},
   "outputs": [],
   "source": [
    "from sklearn.model_selection import train_test_split\n",
    "from sklearn import tree\n",
    "from sklearn.ensemble import BaggingClassifier\n",
    "from sklearn.tree import DecisionTreeClassifier\n",
    "import math"
   ]
  },
  {
   "cell_type": "code",
   "execution_count": null,
   "metadata": {},
   "outputs": [],
   "source": [
    "def uf(X, y, n_estimators = 300, max_samples = .4, base = np.exp(1), kappa = 7):\n",
    "    \n",
    "    # Build forest with default parameters.\n",
    "    model = BaggingClassifier(DecisionTreeClassifier(), \n",
    "                              n_estimators=n_estimators, \n",
    "                              max_samples=max_samples, \n",
    "                              bootstrap=False)\n",
    "    model.fit(X, y)\n",
    "    n = X.shape[0]\n",
    "    K = model.n_classes_\n",
    "    \n",
    "    for tree_idx, tree in enumerate(model):\n",
    "        \n",
    "        # Find the indices of the training set used for partition.\n",
    "        sampled_indices = model.estimators_samples_[tree_idx]\n",
    "        unsampled_indices = np.delete(np.arange(0,n), sampled_indices)\n",
    "        \n",
    "        # Randomly split the rest into voting and evaluation.\n",
    "        total_unsampled = len(unsampled_indices)\n",
    "        np.random.shuffle(unsampled_indices)\n",
    "        vote_indices = unsampled_indices[:total_unsampled//2]\n",
    "        eval_indices = unsampled_indices[total_unsampled//2:]\n",
    "        \n",
    "        # Store the posterior in a num_nodes-by-num_classes matrix.\n",
    "        # Posteriors in non-leaf cells will be zero everywhere\n",
    "        # and later changed to uniform.\n",
    "        node_counts = tree.tree_.n_node_samples\n",
    "        class_counts = np.zeros((len(node_counts), K))\n",
    "        for vote_index in vote_indices:\n",
    "            class_counts[tree.apply(X[vote_index].reshape(1, -1)).item(), y[vote_index]] += 1\n",
    "        row_sums = class_counts.sum(axis=1) # Total number of estimation points in each leaf.\n",
    "        row_sums[row_sums == 0] = 1 # Avoid divide by zero.\n",
    "        class_probs = class_counts / row_sums[:, None]\n",
    "        \n",
    "        # Make the nodes that have no estimation indices uniform.\n",
    "        # This includes non-leaf nodes, but that will not affect the estimate.\n",
    "        where_empty = np.argwhere(class_probs.sum(axis = 1) == 0)\n",
    "        for elem in where_empty:\n",
    "            class_probs[elem] = [1 / K]*K\n",
    "        \n",
    "        # Apply finite sample correction and renormalize.\n",
    "        where_0 = np.argwhere(class_probs == 0)\n",
    "        for elem in where_0:\n",
    "            class_probs[elem[0], elem[1]] = 1 / (kappa*class_counts.sum(axis = 1)[elem[0]])\n",
    "        row_sums = class_probs.sum(axis=1)\n",
    "        class_probs = class_probs / row_sums[:, None]\n",
    "        \n",
    "        # Place evaluation points in their corresponding leaf node.\n",
    "        # Store evaluation posterior in a num_eval-by-num_class matrix.\n",
    "        eval_class_probs = [class_probs[x] for x in tree.apply(X[eval_indices])]\n",
    "        eval_entropies = [entropy(posterior) for posterior in eval_class_probs]\n",
    "        cond_entropy = np.mean(eval_entropies)\n",
    "        \n",
    "        return cond_entropy"
   ]
  },
  {
   "cell_type": "code",
   "execution_count": null,
   "metadata": {},
   "outputs": [],
   "source": [
    "def CART_estimate(X, y, n_trees = 300, bootstrap = True, depth = 30):\n",
    "    model = RandomForestClassifier(bootstrap = bootstrap, n_estimators =n_trees, max_depth = depth, max_features = math.ceil(int(math.sqrt(X.shape[1]))))\n",
    "    model.fit(X, y)\n",
    "    class_counts = np.zeros((X.shape[0], model.n_classes_))\n",
    "    for tree_in_forest in model:\n",
    "        # get number of training elements in each partition\n",
    "        node_counts = tree_in_forest.tree_.n_node_samples\n",
    "        # get counts for all x (x.length array)\n",
    "        partition_counts = np.asarray([node_counts[x] for x in tree_in_forest.apply(X)])\n",
    "        # get class probability for all x (x.length, n_classes)\n",
    "        class_probs = tree_in_forest.predict_proba(X)\n",
    "        # get elements by performing row wise multiplication\n",
    "        elems = np.multiply(class_probs, partition_counts[:, np.newaxis])\n",
    "        # update counts for that tree\n",
    "        class_counts += elems\n",
    "    probs = class_counts/class_counts.sum(axis=1, keepdims=True)\n",
    "    entropies = -np.sum(np.log(probs)*probs, axis = 1)\n",
    "    # convert nan to 0\n",
    "    entropies = np.nan_to_num(entropies)\n",
    "    return np.mean(entropies)"
   ]
  },
  {
   "cell_type": "markdown",
   "metadata": {},
   "source": [
    "## Simulate Data and Conditional Entropy Prediction"
   ]
  },
  {
   "cell_type": "code",
   "execution_count": null,
   "metadata": {},
   "outputs": [],
   "source": [
    "def generate_data(n, d, mu = 1):\n",
    "    n_1 = np.random.binomial(n, .5) # number of class 1\n",
    "    mean = np.zeros(d)\n",
    "    mean[0] = mu\n",
    "    X_1 = np.random.multivariate_normal(mean, np.eye(d), n_1)\n",
    "    \n",
    "    X = np.concatenate((X_1, np.random.multivariate_normal(-mean, np.eye(d), n - n_1)))\n",
    "    y = np.concatenate((np.repeat(1, n_1), np.repeat(0, n - n_1)))\n",
    "  \n",
    "    return X, y"
   ]
  },
  {
   "cell_type": "code",
   "execution_count": null,
   "metadata": {},
   "outputs": [],
   "source": [
    "# num_trials = 10\n",
    "# n = 3000\n",
    "# truth = 0.356\n",
    "\n",
    "# ds = [1, 20, 40]\n",
    "# kappas = [2, 3, 5, 7.5, 10]\n",
    "\n",
    "# # Hyperparameter search.\n",
    "# best_mse = 100000\n",
    "# best_kappa = 0\n",
    "# best_exp = 0\n",
    "# best_var = 0\n",
    "# for i, kappa in enumerate(kappas):\n",
    "#     mse = 0\n",
    "#     for j, d in enumerate(ds):\n",
    "#         print(\"Trial %d out of %d in progress.\" % (len(kappas)*i + j, len(ds)*len(kappas)))\n",
    "#         trials = np.zeros(num_trials)\n",
    "#         for t in range(num_trials):\n",
    "#             X, y = generate_data(n, d)\n",
    "#             trials[t] = uf(X, y, kappa = kappa)\n",
    "        \n",
    "#         exp = np.mean(trials)\n",
    "#         var = np.var(trials) / num_trials\n",
    "#         mse += (exp - truth)**2 + var\n",
    "        \n",
    "#     if mse < best_mse:\n",
    "#         best_mse = mse\n",
    "#         best_kappa = kappa\n",
    "\n",
    "# print(\"Best exp: \", best_exp)\n",
    "# print(\"Best var: \", best_var)\n",
    "# print(\"Best c: \", best_c)\n",
    "# print(\"Best lambda: \", best_lambda)"
   ]
  },
  {
   "cell_type": "markdown",
   "metadata": {},
   "source": [
    "## Compute True Conditional Entropy"
   ]
  },
  {
   "cell_type": "code",
   "execution_count": null,
   "metadata": {},
   "outputs": [],
   "source": [
    "def true_cond_entropy(mu, base = np.exp(1)):\n",
    "    def func(x):\n",
    "        p = 0.5 * norm.pdf(x, mu, 1) + 0.5 * norm.pdf(x, -mu, 1)\n",
    "        return -p * np.log(p) / np.log(base)\n",
    "    \n",
    "    H_X = quad(func, -20, 20)\n",
    "    H_XY = 0.5*(1.0 + np.log(2 * np.pi)) / np.log(base)\n",
    "    H_Y = np.log(2.0) / np.log(base)\n",
    "    # I_XY = H_X - H_XY = H_Y - H_YX\n",
    "    return H_Y - H_X[0] + H_XY"
   ]
  },
  {
   "cell_type": "markdown",
   "metadata": {},
   "source": [
    "## Conditional Entropy versus Sample Size"
   ]
  },
  {
   "cell_type": "code",
   "execution_count": null,
   "metadata": {},
   "outputs": [],
   "source": [
    "def format_func(value, tick_number):\n",
    "    epsilon = 10 ** (-5)\n",
    "    if np.absolute(value) < epsilon:\n",
    "        return \"0\"\n",
    "    if np.absolute(value - 0.5) < epsilon:\n",
    "        return \"0.5\"\n",
    "    if np.absolute(value - 1) < epsilon:\n",
    "        return \"1\"\n",
    "    else:\n",
    "        return \"\""
   ]
  },
  {
   "cell_type": "code",
   "execution_count": null,
   "metadata": {},
   "outputs": [],
   "source": [
    "def plot_cond_entropy_by_n(ax, num_plotted_trials, d, mu, algos, panel):\n",
    "        \n",
    "    sample_sizes = np.array(pickle.load(open('sample_sizes_d_%d.pkl' % d, 'rb')))\n",
    "    for j, algo in enumerate(algos):\n",
    "        result = pickle.load(open('%s_by_n_d_%d.pkl' % (algo['label'], d), 'rb'))\n",
    "        # Plot the mean over trials as a solid line.\n",
    "        ax.plot(sample_sizes / 1000,\n",
    "                np.mean(result, axis = 1).flatten(), \n",
    "                label = algo['label'], \n",
    "                linewidth = 4, \n",
    "                color = algo['color'])\n",
    "        # Use transparent lines to show other trials.\n",
    "        for t in range(num_plotted_trials):\n",
    "            ax.plot(sample_sizes / 1000, \n",
    "                    result[:, t].flatten(),  \n",
    "                    linewidth = 2, \n",
    "                    color = algo['color'],\n",
    "                    alpha = 0.15)\n",
    "    \n",
    "    truth = true_cond_entropy(mu)\n",
    "    ax.axhline(y = truth, linestyle = '-', color = \"black\", label = \"Truth\")\n",
    "        \n",
    "    ax.yaxis.set_major_formatter(plt.FuncFormatter(format_func))\n",
    "    ax.set_xlabel(\"Sample Size (thousands)\")\n",
    "    ax.set_ylabel(\"Estimated Conditional Entropy\")\n",
    "    ax.set_title(\"%s) Effect Size = %.1f\" % (panel, mu))\n",
    "    ax.set_ylim(ymin = -0.05, ymax = 1.05)"
   ]
  },
  {
   "cell_type": "markdown",
   "metadata": {},
   "source": [
    "## Conditional Entropy Estimates versus Effect Size"
   ]
  },
  {
   "cell_type": "code",
   "execution_count": null,
   "metadata": {},
   "outputs": [],
   "source": [
    "def plot_cond_entropy_by_mu(ax, d, n, algos, panel):\n",
    "    \n",
    "    mus = pickle.load(open('mus.pkl', 'rb'))\n",
    "    for j, algo in enumerate(algos):\n",
    "        result = pickle.load(open('%s_by_mu_d_%d.pkl' % (algo['label'], d), 'rb'))\n",
    "        # Plot the mean over trials as a solid line.\n",
    "        ax.plot(mus,\n",
    "                np.mean(result, axis = 1).flatten(), \n",
    "                label = algo['label'], \n",
    "                linewidth = 4, \n",
    "                color = algo['color'])\n",
    "    \n",
    "    truth = [true_cond_entropy(mu) for mu in mus]\n",
    "    ax.plot(mus, truth, label = 'Truth', linewidth = 4, color = 'black')\n",
    "\n",
    "    ax.yaxis.set_major_formatter(plt.FuncFormatter(format_func))\n",
    "    ax.set_ylim(ymin = -.05)\n",
    "    ax.set_title(\"%s) n = %d\" % (panel, n))\n",
    "    ax.set_xlabel(\"Effect Size\")\n",
    "    ax.set_ylabel(\"Estimated Conditional Entropy\")"
   ]
  },
  {
   "cell_type": "code",
   "execution_count": null,
   "metadata": {},
   "outputs": [],
   "source": [
    "def plot_fig2(num_plotted_trials, d1, d2, n1, n2, effect_size, algos):\n",
    "    sns.set(font_scale = 3)\n",
    "    sns.set_style(\"ticks\")\n",
    "    plt.rcParams[\"font.family\"] = \"sans-serif\"\n",
    "    plt.rcParams['figure.figsize'] = [30, 20]\n",
    "    fig, axes = plt.subplots(2, 2)\n",
    "    \n",
    "    plot_cond_entropy_by_n(axes[0, 0], num_plotted_trials, d1, effect_size, algos, \"A\")\n",
    "    plot_cond_entropy_by_mu(axes[0, 1], d1, n1, algos, \"B\")\n",
    "    \n",
    "    plot_cond_entropy_by_n(axes[1, 0], num_plotted_trials, d2, effect_size, algos, \"C\") \n",
    "    plot_cond_entropy_by_mu(axes[1, 1], d2, n2, algos, \"D\")\n",
    "    \n",
    "    axes[0,0].legend(loc = \"upper left\")\n",
    "    \n",
    "    fig.text(-0.05, 0.27, 'd = %d' % d2, ha='left', va='center', fontsize = 40)\n",
    "    fig.text(-0.05, 0.77, 'd = %d' % d1, ha='left', va='center', fontsize = 40)\n",
    "    \n",
    "    plt.subplots_adjust(left=-1)\n",
    "    plt.tight_layout()\n",
    "    plt.savefig(\"fig2.pdf\", bbox_inches = \"tight\")\n",
    "    plt.show()"
   ]
  },
  {
   "cell_type": "code",
   "execution_count": null,
   "metadata": {},
   "outputs": [],
   "source": [
    "def get_cond_entropy_vs_n(mean, d, num_trials, sample_sizes, algos):\n",
    "    \n",
    "    def worker(t):\n",
    "        X, y = generate_data(elem, d, mu = mean)\n",
    "        \n",
    "        ret = []\n",
    "        for algo in algos:\n",
    "            ret.append(estimate_ce(X, y, algo['label']))\n",
    "\n",
    "        return tuple(ret)\n",
    "    \n",
    "    output = np.zeros((len(algos), len(sample_sizes), num_trials))\n",
    "    for i, elem in enumerate(sample_sizes):\n",
    "        results = np.array(Parallel(n_jobs=-2)(delayed(worker)(t) for t in range(num_trials)))\n",
    "        for j in range(len(algos)):\n",
    "            output[j, i, :] = results[:, j]\n",
    "        \n",
    "    pickle.dump(sample_sizes, open('sample_sizes_d_%d.pkl' % d, 'wb'))\n",
    "    for j, algo in enumerate(algos):\n",
    "        pickle.dump(output[j], open('%s_by_n_d_%d.pkl' % (algo['label'], d), 'wb'))\n",
    "        \n",
    "    return output"
   ]
  },
  {
   "cell_type": "code",
   "execution_count": null,
   "metadata": {},
   "outputs": [],
   "source": [
    "def estimate_ce(X, y, label):\n",
    "    if label == \"CART\":\n",
    "        return CART_estimate(X, y)\n",
    "    elif label == \"IRF\":\n",
    "        frac_eval = 0.3\n",
    "        irf = CalibratedClassifierCV(base_estimator=RandomForestClassifier(n_estimators = 300), \n",
    "                                     method='isotonic', \n",
    "                                     cv = 5)\n",
    "        # X_train, y_train, X_eval, y_eval = split_train_eval(X, y, frac_eval)\n",
    "        X_train, X_eval, y_train, y_eval = train_test_split(X, y, test_size=frac_eval)\n",
    "        irf.fit(X_train, y_train)\n",
    "        p = irf.predict_proba(X_eval)\n",
    "        return np.mean(entropy(p.T, base = np.exp(1)))\n",
    "    elif label == \"UF1\":\n",
    "        c = 2\n",
    "        lambda_ = 0.15\n",
    "        d = X.shape[1]\n",
    "        kappa = c * (d ** lambda_)\n",
    "        return uf(X, y, kappa = kappa)\n",
    "    elif label == \"UF2\":\n",
    "        return uf(X, y, base = np.exp(1), kappa = 3)\n",
    "    elif label == \"UF3\":\n",
    "        return uf(X, y, base = np.exp(1), kappa = 8)\n",
    "    elif label == \"UF4\":\n",
    "        return uf(X, y, max_samples = .5, kappa = 5)\n",
    "    elif label == \"UF5\":\n",
    "        return uf(X, y, max_samples = .32, kappa = 5)\n",
    "    else:\n",
    "        raise ValueError(\"Unrecognized Label!\")"
   ]
  },
  {
   "cell_type": "code",
   "execution_count": null,
   "metadata": {},
   "outputs": [],
   "source": [
    "def get_cond_entropy_vs_mu(n, d, num_trials, mus, algos):\n",
    "    \n",
    "    def worker(t):\n",
    "        X, y = generate_data(n, d, mu = elem)\n",
    "        \n",
    "        ret = []\n",
    "        for algo in algos:\n",
    "            ret.append(estimate_ce(X, y, algo['label']))\n",
    "\n",
    "        return tuple(ret)\n",
    "    \n",
    "    output = np.zeros((len(algos), len(mus), num_trials))\n",
    "    for i, elem in enumerate(mus):\n",
    "        results = np.array(Parallel(n_jobs=-2)(delayed(worker)(t) for t in range(num_trials)))\n",
    "        for j in range(len(algos)):\n",
    "            output[j, i, :] = results[:, j]\n",
    "    \n",
    "    pickle.dump(mus, open('mus.pkl', 'wb'))\n",
    "    for j, algo in enumerate(algos):\n",
    "        pickle.dump(output[j], open('%s_by_mu_d_%d.pkl' % (algo['label'], d), 'wb'))\n",
    "        \n",
    "    return output"
   ]
  },
  {
   "cell_type": "markdown",
   "metadata": {},
   "source": [
    "## Run Experiments and Plot"
   ]
  },
  {
   "cell_type": "code",
   "execution_count": null,
   "metadata": {},
   "outputs": [],
   "source": [
    "# Data.\n",
    "mus = [i * 0.5 for i in range(1, 11)]\n",
    "effect_size = 1\n",
    "d1 = 1\n",
    "d2 = 20\n",
    "n1 = 3000\n",
    "n2 = 6000\n",
    "num_trials = 20\n",
    "num_plotted_trials = 10\n",
    "sample_sizes_d1 = range(300, 1201, 90)\n",
    "sample_sizes_d2 = range(500, 3001, 250)\n",
    "\n",
    "# Fake params.\n",
    "# mus = [i * 0.5 for i in range(1, 3)]\n",
    "# effect_size = 1\n",
    "# d1 = 1\n",
    "# d2 = 3\n",
    "# n1 = 100\n",
    "# n2 = 110\n",
    "# num_trials = 2\n",
    "# num_plotted_trials = 2\n",
    "# sample_sizes_d1 = range(100, 120, 10)\n",
    "# sample_sizes_d2 = range(100, 130, 10)\n",
    "\n",
    "# Algorithms.\n",
    "algos = [\n",
    "    {\n",
    "        'label': 'CART',\n",
    "        'title': 'CART Forest',\n",
    "        'color': \"#1b9e77\",\n",
    "    },\n",
    "    {\n",
    "        'label': 'IRF',\n",
    "        'title': 'Isotonic Reg. Forest',\n",
    "        'color': \"#fdae61\",\n",
    "    },\n",
    "    {\n",
    "        'label': 'UF',\n",
    "        'title': 'Uncertainty Forest',\n",
    "        'color': \"#F41711\",\n",
    "    },\n",
    "]"
   ]
  },
  {
   "cell_type": "markdown",
   "metadata": {},
   "source": [
    "### Estimated H(Y | X) versus n, d = 1"
   ]
  },
  {
   "cell_type": "code",
   "execution_count": null,
   "metadata": {
    "scrolled": true
   },
   "outputs": [],
   "source": [
    "get_cond_entropy_vs_n(effect_size, d1, num_trials, sample_sizes_d1, algos)"
   ]
  },
  {
   "cell_type": "markdown",
   "metadata": {},
   "source": [
    "### Estimated H(Y | X) versus mu, d = 1"
   ]
  },
  {
   "cell_type": "code",
   "execution_count": null,
   "metadata": {},
   "outputs": [],
   "source": [
    "# Estimate conditional entropy vs mu.\n",
    "get_cond_entropy_vs_mu(n1, d1, num_trials, mus, algos)"
   ]
  },
  {
   "cell_type": "markdown",
   "metadata": {},
   "source": [
    "### Estimated H(Y | X) versus n, d = 40"
   ]
  },
  {
   "cell_type": "code",
   "execution_count": null,
   "metadata": {},
   "outputs": [],
   "source": [
    "# Estimate conditional entropy vs n.\n",
    "get_cond_entropy_vs_n(effect_size, d2, num_trials, sample_sizes_d2, algos)"
   ]
  },
  {
   "cell_type": "markdown",
   "metadata": {},
   "source": [
    "### Estimated H(Y | X) versus mu, d = 40"
   ]
  },
  {
   "cell_type": "code",
   "execution_count": null,
   "metadata": {},
   "outputs": [],
   "source": [
    "# Estimate conditional entropy vs mu.\n",
    "get_cond_entropy_vs_mu(n2, d2, num_trials, mus, algos)"
   ]
  },
  {
   "cell_type": "code",
   "execution_count": null,
   "metadata": {},
   "outputs": [],
   "source": [
    "plot_fig2(num_plotted_trials, d1, d2, n1, n2, effect_size, algos)"
   ]
  },
  {
   "cell_type": "code",
   "execution_count": null,
   "metadata": {},
   "outputs": [],
   "source": []
  }
 ],
 "metadata": {
  "kernelspec": {
   "display_name": "Python 3",
   "language": "python",
   "name": "python3"
  },
  "language_info": {
   "codemirror_mode": {
    "name": "ipython",
    "version": 3
   },
   "file_extension": ".py",
   "mimetype": "text/x-python",
   "name": "python",
   "nbconvert_exporter": "python",
   "pygments_lexer": "ipython3",
   "version": "3.7.4"
  }
 },
 "nbformat": 4,
 "nbformat_minor": 2
}
