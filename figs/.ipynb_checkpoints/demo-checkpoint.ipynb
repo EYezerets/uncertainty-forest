{
 "cells": [
  {
   "cell_type": "markdown",
   "metadata": {},
   "source": [
    "# Uncertainty Forest (UF) Demo\n",
    "This demo provides the basic use cases of the `uncertainty_forest` module."
   ]
  },
  {
   "cell_type": "code",
   "execution_count": 9,
   "metadata": {},
   "outputs": [],
   "source": [
    "import numpy as np\n",
    "import time\n",
    "from uncertainty_forest.uncertainty_forest import UncertaintyForest"
   ]
  },
  {
   "cell_type": "markdown",
   "metadata": {},
   "source": [
    "## Hyperparameter Specification\n",
    "Random forest hyperparameters such as minimum leaf size and maximum depth can be specified by the UF constructor."
   ]
  },
  {
   "cell_type": "code",
   "execution_count": 16,
   "metadata": {},
   "outputs": [],
   "source": [
    "max_depth=30\n",
    "min_samples_leaf=6\n",
    "max_features=None\n",
    "n_estimators=300\n",
    "frac_struct=0.56\n",
    "frac_est=0.14\n",
    "frac_eval=0.30\n",
    "bootstrap=False\n",
    "parallel=False\n",
    "finite_correction=True\n",
    "base=2.0\n",
    "\n",
    "uf = UncertaintyForest(         \n",
    "    max_depth = max_depth,\n",
    "    min_samples_leaf = min_samples_leaf,\n",
    "    max_features = max_features,\n",
    "    n_estimators = n_estimators,\n",
    "    frac_struct = frac_struct,\n",
    "    frac_est = frac_est,\n",
    "    frac_eval = frac_eval,\n",
    "    bootstrap = bootstrap,\n",
    "    parallel = parallel,\n",
    "    finite_correction = finite_correction,\n",
    "    base = base,\n",
    ")"
   ]
  },
  {
   "cell_type": "code",
   "execution_count": 17,
   "metadata": {},
   "outputs": [],
   "source": [
    "# Or, you can just use the defaults.\n",
    "# uf = UncertaintyForest()"
   ]
  },
  {
   "cell_type": "markdown",
   "metadata": {},
   "source": [
    "## Estimate the Conditional Probability of `Y` given `X = x`\n",
    "Use `X_train` and `y_train` to estimate the posterior, and evaluate this posterior at `X_eval`."
   ]
  },
  {
   "cell_type": "code",
   "execution_count": 18,
   "metadata": {},
   "outputs": [
    {
     "name": "stdout",
     "output_type": "stream",
     "text": [
      "(3000, 10)\n",
      "(3000,)\n"
     ]
    }
   ],
   "source": [
    "n_class = 1000\n",
    "d = 10\n",
    "classes = [-1, 0, 1]\n",
    "n = n_class*len(classes)\n",
    "\n",
    "X_train = np.concatenate([np.random.multivariate_normal(k*np.ones(d), np.eye(d), n_class) for k in classes])\n",
    "y_train = np.concatenate([k*np.ones(n_class) for k in classes])\n",
    "print(X_train.shape)\n",
    "print(y_train.shape)"
   ]
  },
  {
   "cell_type": "code",
   "execution_count": 19,
   "metadata": {
    "scrolled": true
   },
   "outputs": [
    {
     "name": "stdout",
     "output_type": "stream",
     "text": [
      "Elapsed time with parallel set to: True and n = 3000\n",
      "29.819971084594727\n"
     ]
    }
   ],
   "source": [
    "start_time = time.time()\n",
    "uf.fit(X_train, y_train)\n",
    "elapsed_time = time.time() - start_time\n",
    "print(\"Elapsed time with parallel set to:\", parallel, \"and n =\", n)\n",
    "print(elapsed_time)"
   ]
  },
  {
   "cell_type": "code",
   "execution_count": null,
   "metadata": {},
   "outputs": [],
   "source": [
    "cond_probability = uf.predict_proba(X_eval)\n",
    "print(\"P(Y|X = x) for x in X_eval:\")\n",
    "print(cond_probability)"
   ]
  },
  {
   "cell_type": "markdown",
   "metadata": {},
   "source": [
    "## Estimate the Conditional Entropy\n",
    "`H(Y | X)` is also computed using the evaluation set `X_eval`."
   ]
  },
  {
   "cell_type": "code",
   "execution_count": null,
   "metadata": {},
   "outputs": [],
   "source": [
    "cond_entropy = uf.estimate_cond_entropy()\n",
    "print(\"0 <= H(Y|X) = %f <= log2(3) = %f\" % (cond_entropy, np.log2(3.0)))"
   ]
  },
  {
   "cell_type": "markdown",
   "metadata": {},
   "source": [
    "## Estimate the mutual information\n",
    "Mutual information can be estimated with the exact same protocol as conditional entropy, with `estimate_mutual_info`."
   ]
  },
  {
   "cell_type": "code",
   "execution_count": null,
   "metadata": {},
   "outputs": [],
   "source": [
    "mutual_info = uf.estimate_mutual_info()\n",
    "print(\"I(X, Y) = %f\" % mutual_info)"
   ]
  },
  {
   "cell_type": "code",
   "execution_count": null,
   "metadata": {},
   "outputs": [],
   "source": []
  }
 ],
 "metadata": {
  "kernelspec": {
   "display_name": "Python 3",
   "language": "python",
   "name": "python3"
  },
  "language_info": {
   "codemirror_mode": {
    "name": "ipython",
    "version": 3
   },
   "file_extension": ".py",
   "mimetype": "text/x-python",
   "name": "python",
   "nbconvert_exporter": "python",
   "pygments_lexer": "ipython3",
   "version": "3.7.4"
  }
 },
 "nbformat": 4,
 "nbformat_minor": 2
}
