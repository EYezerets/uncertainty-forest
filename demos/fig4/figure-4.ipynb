{
 "cells": [
  {
   "cell_type": "code",
   "execution_count": 1,
   "metadata": {},
   "outputs": [],
   "source": [
    "import numpy as np\n",
    "import seaborn as sns\n",
    "import matplotlib.pyplot as plt\n",
    "import pickle\n",
    "import copy\n",
    "\n",
    "from uncertainty_forest.uncertainty_forest import UncertaintyForest\n",
    "\n",
    "from tqdm import tqdm_notebook\n",
    "from joblib import Parallel, delayed\n",
    "from scipy.stats import entropy, multivariate_normal\n",
    "from scipy.integrate import nquad"
   ]
  },
  {
   "cell_type": "code",
   "execution_count": 2,
   "metadata": {},
   "outputs": [],
   "source": [
    "def split_train_eval(X, y, frac_eval):\n",
    "    \n",
    "    if frac_eval == 0:\n",
    "        return X, y, [], []\n",
    "    \n",
    "    n = len(y)\n",
    "    n_eval = int(np.floor(frac_eval*n))\n",
    "    eval_indices = np.random.choice(np.arange(n), size = n_eval, replace = False)\n",
    "    X_eval = X[eval_indices, :]\n",
    "    y_eval = y[eval_indices]\n",
    "    X = np.delete(X, eval_indices, axis = 0)\n",
    "    y = np.delete(y, eval_indices, axis = 0)\n",
    "    \n",
    "    return X, y, X_eval, y_eval\n",
    "\n",
    "def generate_data(n, d, mu = 1, var1 = 1, pi = 0.5, truncate = False, three_class = False):\n",
    "    \n",
    "    means, Sigma, probs = _make_params(d, mu = mu, var1 = var1, pi = pi, three_class = three_class)\n",
    "    counts = np.random.multinomial(n, probs, size = 1)[0]\n",
    "    \n",
    "    X_data = []\n",
    "    y_data = []\n",
    "    for k in range(len(probs)):\n",
    "        X_data.append(np.random.multivariate_normal(means[k], Sigma, counts[k]))\n",
    "        y_data.append(np.repeat(2*k - 1, counts[k]))\n",
    "    X = np.concatenate(tuple(X_data))\n",
    "    y = np.concatenate(tuple(y_data))\n",
    "    \n",
    "    if truncate:\n",
    "        for i in range(n):\n",
    "            if X[i, 0] > 0:\n",
    "                y[i] = -1\n",
    "            elif X[i, 0] < 0:\n",
    "                y[i] = 1\n",
    "    \n",
    "    return X, y\n",
    "\n",
    "def _make_params(d, mu = 1, var1 = 1, pi = 0.5, three_class = False):\n",
    "    \n",
    "    if three_class:\n",
    "        return _make_three_class_params(d, mu)\n",
    "    \n",
    "    mean = np.zeros(d)\n",
    "    mean[0] = mu\n",
    "    means = [mean, -mean]\n",
    "    Sigma = np.eye(d)\n",
    "    Sigma[0, 0] = var1\n",
    "    probs = [pi, 1 - pi]\n",
    "    \n",
    "    return means, Sigma, probs\n",
    "\n",
    "def _make_three_class_params(d, mu):\n",
    "    \n",
    "    means = []\n",
    "    mean = np.zeros(d)\n",
    "    mean[d-1] = mu\n",
    "    means.append(copy.deepcopy(mean))\n",
    "    \n",
    "    mean[d-1] = 0\n",
    "    mean[0] = mu\n",
    "    means.append(copy.deepcopy(mean))\n",
    "    \n",
    "    mean[0] = -mu\n",
    "    means.append(copy.deepcopy(mean))\n",
    "                      \n",
    "    Sigma = np.eye(d)\n",
    "    probs = [1/3.]*3\n",
    "    \n",
    "    return means, Sigma, probs\n",
    "\n",
    "def split_by_class(X, y):\n",
    "    \n",
    "    classes, class_indices = np.unique(y, return_inverse = True)\n",
    "    K = len(classes)\n",
    "    X_by_class = []\n",
    "    y_by_class = []\n",
    "    \n",
    "    for k in range(K):\n",
    "        class_ = classes[k]\n",
    "        X_k = X[y == class_,:]\n",
    "        y_k = np.repeat(class_, X_k.shape[0])\n",
    "        X_by_class.append(X_k)\n",
    "        y_by_class.append(y_k)\n",
    "        \n",
    "    return X_by_class, y_by_class"
   ]
  },
  {
   "cell_type": "code",
   "execution_count": null,
   "metadata": {},
   "outputs": [],
   "source": [
    "def plot_setting(n, setting, ax):\n",
    "    \n",
    "    X, y = generate_data(n, 2, **setting['kwargs'])\n",
    "        \n",
    "    X_by_class, y_by_class = split_by_class(X, y)\n",
    "    for k in range(len(y_by_class)):\n",
    "        ax.scatter(X_by_class[k][:, 0], X_by_class[k][:, 1], color = setting['colors'][k], marker = \".\")\n",
    "    \n",
    "    ax.set_ylim(bottom = -5.05)\n",
    "    ax.set_ylim(top = 5.05)\n",
    "    ax.set_xlim(left = -5.05)\n",
    "    ax.set_xlim(right = 5.05)\n",
    "    \n",
    "    ax.set_ylabel(setting['name'])"
   ]
  },
  {
   "cell_type": "code",
   "execution_count": 3,
   "metadata": {},
   "outputs": [],
   "source": [
    "def compute_norm_mutual_info(d, base = 2, mu = 1, var1 = 1, pi = 0.5, three_class = False, truncate = False):\n",
    "    \n",
    "    if truncate:\n",
    "        return 1.0, 1.0, 1.0 # TO DO: Compute entropy of X.\n",
    "    \n",
    "    # For the settings of interest, adding noise dimensions does not change the resulting mutual information.\n",
    "    if d > 1:\n",
    "        d = 2\n",
    "    \n",
    "    means, Sigma, probs = _make_params(d, mu = mu, var1 = var1, pi = pi, three_class = three_class)\n",
    "    \n",
    "    # Compute entropy and X and Y.\n",
    "    def func(*args):\n",
    "        x = np.array(args)\n",
    "        p = 0\n",
    "        for k in range(len(means)):\n",
    "            p += probs[k] * multivariate_normal.pdf(x, means[k], Sigma)\n",
    "        return -p * np.log(p) / np.log(base)\n",
    "\n",
    "    scale = 10\n",
    "    lims = [[-scale, scale]]*d\n",
    "    H_X, int_err = nquad(func, lims)\n",
    "    H_Y = entropy(probs, base = base)\n",
    "    \n",
    "    # Compute MI.\n",
    "    H_XY = (d * np.log(2*np.pi) + np.log(np.linalg.det(Sigma)) + d) / (2 * np.log(base))\n",
    "    I_XY = H_X - H_XY\n",
    "    \n",
    "    return I_XY, H_X, H_Y"
   ]
  },
  {
   "cell_type": "code",
   "execution_count": 4,
   "metadata": {},
   "outputs": [],
   "source": [
    "def mutual_info_distribution(n, d, frac_eval, algo, num_trials, setting, base = 2, parallel = False):\n",
    "    # For each trial, generate data and compute conditional entropy for each algorithm.\n",
    "    def worker(t):\n",
    "        X, y = generate_data(n, d, **setting['kwargs'])\n",
    "        X, y, X_eval, _ = split_train_eval(X, y, frac_eval)\n",
    "\n",
    "        # Estimate conditional probability of Y | X.\n",
    "        obj = algo['instance']\n",
    "        obj.fit(X, y)\n",
    "        return obj.estimate_mutual_info(X_eval)\n",
    "    \n",
    "    if parallel:\n",
    "        predicted_mutual_info = np.array(Parallel(n_jobs=-2)(delayed(worker)(t) for t in range(num_trials)))\n",
    "    else:\n",
    "        predicted_mutual_info = np.zeros(num_trials)\n",
    "        for t in tqdm_notebook(range(num_trials)):\n",
    "            predicted_mutual_info[t] = worker(t)\n",
    "            \n",
    "    return predicted_mutual_info"
   ]
  },
  {
   "cell_type": "code",
   "execution_count": 23,
   "metadata": {},
   "outputs": [],
   "source": [
    "def MI_by_algo_d(alpha, d, n, scale, frac_eval, algo, num_trials, setting, parallel, I_XY):\n",
    "    mi_est = np.mean(mutual_info_distribution(n, d, frac_eval, algo, num_trials, setting, parallel = parallel), axis = 0)\n",
    "    rel_err = np.abs(mi_est - I_XY) / I_XY\n",
    "    while rel_err > alpha:\n",
    "        print(\"Checking if %s converges in %d samples for %s.\" % (algo['title'], scale*n, setting['name']))\n",
    "        return MI_by_algo_d(alpha, d, n*scale, scale, frac_eval, algo, num_trials, setting, parallel, I_XY)\n",
    "    print(\"Running binary search.\")\n",
    "    return binary_search(alpha, d, n, scale, frac_eval, algo, num_trials, setting, parallel, I_XY)\n",
    "\n",
    "def binary_search(alpha, d, n, scale, frac_eval, algo, num_trials, setting, parallel, I_XY):\n",
    "    start = n // 2\n",
    "    end = n\n",
    "    mid = (start + end) // 2\n",
    "    prev_mid = 0\n",
    "    \n",
    "    mi_est = np.mean(mutual_info_distribution(mid, d, frac_eval, algo, num_trials, setting, parallel = parallel), axis = 0)\n",
    "    rel_err = np.abs(mi_est - I_XY) / I_XY\n",
    "    while np.abs(prev_mid - mid) > 5:\n",
    "        prev_mid = mid\n",
    "        if rel_err > alpha:\n",
    "            start = mid\n",
    "        else:\n",
    "            end = mid\n",
    "        mid = (start + end) // 2\n",
    "        mi_est = np.mean(mutual_info_distribution(mid, d, frac_eval, algo, num_trials, setting, parallel = parallel), axis = 0)\n",
    "        rel_err = np.abs(mi_est - I_XY) / I_XY\n",
    "    return mid"
   ]
  },
  {
   "cell_type": "code",
   "execution_count": 24,
   "metadata": {},
   "outputs": [],
   "source": [
    "# Compute the number of trials until with 5% of the true MI.\n",
    "def mutual_info_by_d(alpha, scale, ds, frac_eval, algos, num_trials, setting, base = 2, parallel = False):\n",
    "    \n",
    "    \n",
    "    # Repeat for all 'd', and save output in the 'algos' array.\n",
    "    num_sample_range = np.zeros((len(ds), len(algos)))\n",
    "    starting_n = 20\n",
    "    MI_by_algo = np.repeat(1000, len(algos))\n",
    "    \n",
    "    # Increase n until estimate is within 5% of the true I_XY.\n",
    "    for i in range(len(ds)):\n",
    "        I_XY = compute_norm_mutual_info(ds[i], **setting['kwargs'])[0]\n",
    "        for j in range(len(algos)):\n",
    "            num_sample_range[i, j] = MI_by_algo_d(alpha, \n",
    "                                                  ds[i], \n",
    "                                                  starting_n, \n",
    "                                                  scale, \n",
    "                                                  frac_eval, \n",
    "                                                  algos[j], \n",
    "                                                  num_trials, \n",
    "                                                  setting,\n",
    "                                                  parallel, \n",
    "                                                  I_XY)\n",
    "                             \n",
    "    for j in range(len(algos)):\n",
    "        algos[j]['mi_by_d_%s' % setting['filename']] = num_sample_range[:, j]\n",
    "        \n",
    "    with open('algos_fig4.pkl', 'wb') as f:\n",
    "        pickle.dump(algos, f)\n",
    "    with open('ds_fig4.pkl', 'wb') as f:\n",
    "        pickle.dump(ds, f)\n",
    "        \n",
    "    return algos"
   ]
  },
  {
   "cell_type": "code",
   "execution_count": 25,
   "metadata": {},
   "outputs": [],
   "source": [
    "# Setting figures.\n",
    "colors = [\"#d95f02\", \"#2166ac\", \"#c51b7d\"]\n",
    "settings = [\n",
    "    {\n",
    "        'name' : 'Sphereical Gaussians',\n",
    "        'kwargs': {},\n",
    "        'colors' : colors[1:3],\n",
    "        'filename' : 'spherical'\n",
    "    },\n",
    "    {\n",
    "        'name' : 'Elliptical Gaussians',\n",
    "        'kwargs': {'var1' : 3},\n",
    "        'colors' : colors[1:3],\n",
    "        'filename' : 'ellyptical'\n",
    "    },\n",
    "#     {\n",
    "#         'name' : 'Imbalanced Classes',\n",
    "#         'kwargs': {'pi' : 0.8},\n",
    "#         'colors' : colors[1:3],\n",
    "#         'filename' : 'imbalanced'\n",
    "#     },\n",
    "#     {\n",
    "#         'name' : 'Truncated Gaussians',\n",
    "#         'kwargs': {'truncate' : True},\n",
    "#         'colors' : colors[1:3],\n",
    "#         'filename' : 'truncated'\n",
    "#     },\n",
    "#     {\n",
    "#         'name' : 'Three Class Gaussians',\n",
    "#         'kwargs': {'mu' : 3, 'three_class' : True},\n",
    "#         'colors' : colors,\n",
    "#         'filename' : 'three_class'\n",
    "#     },\n",
    "]"
   ]
  },
  {
   "cell_type": "code",
   "execution_count": 26,
   "metadata": {},
   "outputs": [],
   "source": [
    "# Data.\n",
    "num_trials = 3\n",
    "frac_eval = 0.3\n",
    "scale = 2\n",
    "alpha = 0.30\n",
    "ds = range(1, 3, 1)\n",
    "\n",
    "# Algorithms.\n",
    "algos = [\n",
    "#     {\n",
    "#         'instance': RandomForestClassifier(min_samples_leaf = 6, n_estimators = 30),\n",
    "#         'label': 'KSG',\n",
    "#         'title': 'KSG',\n",
    "#         'color': \"#1b9e77\",\n",
    "#     },\n",
    "    {\n",
    "        'instance': UncertaintyForest(finite_correction = False, min_samples_leaf = 6, n_estimators = 30),\n",
    "        'label': 'Mixed KSG',\n",
    "        'title': 'Mixed KSG',\n",
    "        'color': \"#fdae61\",\n",
    "    },\n",
    "    {\n",
    "        'instance': UncertaintyForest(min_samples_leaf = 6, n_estimators = 30),\n",
    "        'label': 'UF',\n",
    "        'title': 'Uncertainty Forest',\n",
    "        'color': \"#F41711\",\n",
    "    },\n",
    "]\n",
    "\n",
    "# Other.\n",
    "num_plotted_trials = 3\n",
    "parallel = False"
   ]
  },
  {
   "cell_type": "code",
   "execution_count": 27,
   "metadata": {},
   "outputs": [
    {
     "data": {
      "application/vnd.jupyter.widget-view+json": {
       "model_id": "0e7dec758e184b00929317140c516320",
       "version_major": 2,
       "version_minor": 0
      },
      "text/plain": [
       "HBox(children=(IntProgress(value=0, max=3), HTML(value='')))"
      ]
     },
     "metadata": {},
     "output_type": "display_data"
    },
    {
     "name": "stdout",
     "output_type": "stream",
     "text": [
      "\n",
      "Checking if Mixed KSG converges in 40 samples for Sphereical Gaussians.\n"
     ]
    },
    {
     "data": {
      "application/vnd.jupyter.widget-view+json": {
       "model_id": "ad74380c311e4a86be72e51c4b1c31ca",
       "version_major": 2,
       "version_minor": 0
      },
      "text/plain": [
       "HBox(children=(IntProgress(value=0, max=3), HTML(value='')))"
      ]
     },
     "metadata": {},
     "output_type": "display_data"
    },
    {
     "name": "stdout",
     "output_type": "stream",
     "text": [
      "\n",
      "Running binary search.\n"
     ]
    },
    {
     "data": {
      "application/vnd.jupyter.widget-view+json": {
       "model_id": "5c053c8ca07243a8b6a6202cd0d185d3",
       "version_major": 2,
       "version_minor": 0
      },
      "text/plain": [
       "HBox(children=(IntProgress(value=0, max=3), HTML(value='')))"
      ]
     },
     "metadata": {},
     "output_type": "display_data"
    },
    {
     "name": "stdout",
     "output_type": "stream",
     "text": [
      "\n"
     ]
    },
    {
     "data": {
      "application/vnd.jupyter.widget-view+json": {
       "model_id": "0379a0b43b1a4180b1b152f80ded7c25",
       "version_major": 2,
       "version_minor": 0
      },
      "text/plain": [
       "HBox(children=(IntProgress(value=0, max=3), HTML(value='')))"
      ]
     },
     "metadata": {},
     "output_type": "display_data"
    },
    {
     "name": "stdout",
     "output_type": "stream",
     "text": [
      "\n"
     ]
    },
    {
     "data": {
      "application/vnd.jupyter.widget-view+json": {
       "model_id": "05014b1d21da42139446610ec5962041",
       "version_major": 2,
       "version_minor": 0
      },
      "text/plain": [
       "HBox(children=(IntProgress(value=0, max=3), HTML(value='')))"
      ]
     },
     "metadata": {},
     "output_type": "display_data"
    },
    {
     "name": "stdout",
     "output_type": "stream",
     "text": [
      "\n",
      "Checking if Uncertainty Forest converges in 40 samples for Sphereical Gaussians.\n"
     ]
    },
    {
     "data": {
      "application/vnd.jupyter.widget-view+json": {
       "model_id": "fc2926c1782149e69950e384f044a13d",
       "version_major": 2,
       "version_minor": 0
      },
      "text/plain": [
       "HBox(children=(IntProgress(value=0, max=3), HTML(value='')))"
      ]
     },
     "metadata": {},
     "output_type": "display_data"
    },
    {
     "name": "stdout",
     "output_type": "stream",
     "text": [
      "\n",
      "Checking if Uncertainty Forest converges in 80 samples for Sphereical Gaussians.\n"
     ]
    },
    {
     "data": {
      "application/vnd.jupyter.widget-view+json": {
       "model_id": "019ec2ea0f2d4433a1bf1854759c15a6",
       "version_major": 2,
       "version_minor": 0
      },
      "text/plain": [
       "HBox(children=(IntProgress(value=0, max=3), HTML(value='')))"
      ]
     },
     "metadata": {},
     "output_type": "display_data"
    },
    {
     "name": "stdout",
     "output_type": "stream",
     "text": [
      "\n",
      "Running binary search.\n"
     ]
    },
    {
     "data": {
      "application/vnd.jupyter.widget-view+json": {
       "model_id": "b484ee7ce7764a01a77c1b27fb0e0ada",
       "version_major": 2,
       "version_minor": 0
      },
      "text/plain": [
       "HBox(children=(IntProgress(value=0, max=3), HTML(value='')))"
      ]
     },
     "metadata": {},
     "output_type": "display_data"
    },
    {
     "name": "stdout",
     "output_type": "stream",
     "text": [
      "\n"
     ]
    },
    {
     "data": {
      "application/vnd.jupyter.widget-view+json": {
       "model_id": "32b5068d290e408ea5e0b536a8a4f5b2",
       "version_major": 2,
       "version_minor": 0
      },
      "text/plain": [
       "HBox(children=(IntProgress(value=0, max=3), HTML(value='')))"
      ]
     },
     "metadata": {},
     "output_type": "display_data"
    },
    {
     "name": "stdout",
     "output_type": "stream",
     "text": [
      "\n"
     ]
    },
    {
     "data": {
      "application/vnd.jupyter.widget-view+json": {
       "model_id": "af9e5f2ac9414529a7599ac80237bd69",
       "version_major": 2,
       "version_minor": 0
      },
      "text/plain": [
       "HBox(children=(IntProgress(value=0, max=3), HTML(value='')))"
      ]
     },
     "metadata": {},
     "output_type": "display_data"
    },
    {
     "name": "stdout",
     "output_type": "stream",
     "text": [
      "\n"
     ]
    },
    {
     "data": {
      "application/vnd.jupyter.widget-view+json": {
       "model_id": "3e925eb13a89402e9406f6f881a10669",
       "version_major": 2,
       "version_minor": 0
      },
      "text/plain": [
       "HBox(children=(IntProgress(value=0, max=3), HTML(value='')))"
      ]
     },
     "metadata": {},
     "output_type": "display_data"
    },
    {
     "name": "stdout",
     "output_type": "stream",
     "text": [
      "\n",
      "Checking if Mixed KSG converges in 40 samples for Sphereical Gaussians.\n"
     ]
    },
    {
     "data": {
      "application/vnd.jupyter.widget-view+json": {
       "model_id": "61562577ac5a4cc3b82aa32b2ec95a09",
       "version_major": 2,
       "version_minor": 0
      },
      "text/plain": [
       "HBox(children=(IntProgress(value=0, max=3), HTML(value='')))"
      ]
     },
     "metadata": {},
     "output_type": "display_data"
    },
    {
     "name": "stdout",
     "output_type": "stream",
     "text": [
      "\n",
      "Running binary search.\n"
     ]
    },
    {
     "data": {
      "application/vnd.jupyter.widget-view+json": {
       "model_id": "8f5fc77f886445baa7973bc0c6570d98",
       "version_major": 2,
       "version_minor": 0
      },
      "text/plain": [
       "HBox(children=(IntProgress(value=0, max=3), HTML(value='')))"
      ]
     },
     "metadata": {},
     "output_type": "display_data"
    },
    {
     "name": "stdout",
     "output_type": "stream",
     "text": [
      "\n"
     ]
    },
    {
     "data": {
      "application/vnd.jupyter.widget-view+json": {
       "model_id": "cdc908d6f8c04ec0b4a1369f8e5343c3",
       "version_major": 2,
       "version_minor": 0
      },
      "text/plain": [
       "HBox(children=(IntProgress(value=0, max=3), HTML(value='')))"
      ]
     },
     "metadata": {},
     "output_type": "display_data"
    },
    {
     "name": "stdout",
     "output_type": "stream",
     "text": [
      "\n"
     ]
    },
    {
     "data": {
      "application/vnd.jupyter.widget-view+json": {
       "model_id": "c806dcc555114d69ba011b4b31793e5d",
       "version_major": 2,
       "version_minor": 0
      },
      "text/plain": [
       "HBox(children=(IntProgress(value=0, max=3), HTML(value='')))"
      ]
     },
     "metadata": {},
     "output_type": "display_data"
    },
    {
     "name": "stdout",
     "output_type": "stream",
     "text": [
      "\n",
      "Checking if Uncertainty Forest converges in 40 samples for Sphereical Gaussians.\n"
     ]
    },
    {
     "data": {
      "application/vnd.jupyter.widget-view+json": {
       "model_id": "15373611a6a64b688af5a6e6dffe801a",
       "version_major": 2,
       "version_minor": 0
      },
      "text/plain": [
       "HBox(children=(IntProgress(value=0, max=3), HTML(value='')))"
      ]
     },
     "metadata": {},
     "output_type": "display_data"
    },
    {
     "name": "stdout",
     "output_type": "stream",
     "text": [
      "\n",
      "Checking if Uncertainty Forest converges in 80 samples for Sphereical Gaussians.\n"
     ]
    },
    {
     "data": {
      "application/vnd.jupyter.widget-view+json": {
       "model_id": "9c182ad7a9dc427e96789f696b5c6953",
       "version_major": 2,
       "version_minor": 0
      },
      "text/plain": [
       "HBox(children=(IntProgress(value=0, max=3), HTML(value='')))"
      ]
     },
     "metadata": {},
     "output_type": "display_data"
    },
    {
     "name": "stdout",
     "output_type": "stream",
     "text": [
      "\n",
      "Running binary search.\n"
     ]
    },
    {
     "data": {
      "application/vnd.jupyter.widget-view+json": {
       "model_id": "ba05e53ef1dc4ec7a06ca31e216e07cb",
       "version_major": 2,
       "version_minor": 0
      },
      "text/plain": [
       "HBox(children=(IntProgress(value=0, max=3), HTML(value='')))"
      ]
     },
     "metadata": {},
     "output_type": "display_data"
    },
    {
     "name": "stdout",
     "output_type": "stream",
     "text": [
      "\n"
     ]
    },
    {
     "data": {
      "application/vnd.jupyter.widget-view+json": {
       "model_id": "b8d2626465784bdebe42f47b734c2ea9",
       "version_major": 2,
       "version_minor": 0
      },
      "text/plain": [
       "HBox(children=(IntProgress(value=0, max=3), HTML(value='')))"
      ]
     },
     "metadata": {},
     "output_type": "display_data"
    },
    {
     "name": "stdout",
     "output_type": "stream",
     "text": [
      "\n"
     ]
    },
    {
     "data": {
      "application/vnd.jupyter.widget-view+json": {
       "model_id": "5ad97dc3d3bb4be5a66f6e36ce077248",
       "version_major": 2,
       "version_minor": 0
      },
      "text/plain": [
       "HBox(children=(IntProgress(value=0, max=3), HTML(value='')))"
      ]
     },
     "metadata": {},
     "output_type": "display_data"
    },
    {
     "name": "stdout",
     "output_type": "stream",
     "text": [
      "\n"
     ]
    },
    {
     "data": {
      "application/vnd.jupyter.widget-view+json": {
       "model_id": "4a82cf4577704a9e86258ff4ac862837",
       "version_major": 2,
       "version_minor": 0
      },
      "text/plain": [
       "HBox(children=(IntProgress(value=0, max=3), HTML(value='')))"
      ]
     },
     "metadata": {},
     "output_type": "display_data"
    },
    {
     "name": "stdout",
     "output_type": "stream",
     "text": [
      "\n",
      "Checking if Mixed KSG converges in 40 samples for Elliptical Gaussians.\n"
     ]
    },
    {
     "data": {
      "application/vnd.jupyter.widget-view+json": {
       "model_id": "915687b9a31240cd80eaa1225a8177ba",
       "version_major": 2,
       "version_minor": 0
      },
      "text/plain": [
       "HBox(children=(IntProgress(value=0, max=3), HTML(value='')))"
      ]
     },
     "metadata": {},
     "output_type": "display_data"
    },
    {
     "name": "stdout",
     "output_type": "stream",
     "text": [
      "\n",
      "Checking if Mixed KSG converges in 80 samples for Elliptical Gaussians.\n"
     ]
    },
    {
     "data": {
      "application/vnd.jupyter.widget-view+json": {
       "model_id": "2c824a5811e3475383ee4f0a44e0cfd6",
       "version_major": 2,
       "version_minor": 0
      },
      "text/plain": [
       "HBox(children=(IntProgress(value=0, max=3), HTML(value='')))"
      ]
     },
     "metadata": {},
     "output_type": "display_data"
    },
    {
     "name": "stdout",
     "output_type": "stream",
     "text": [
      "\n",
      "Running binary search.\n"
     ]
    },
    {
     "data": {
      "application/vnd.jupyter.widget-view+json": {
       "model_id": "b59ed4ef0cc14ea68a1e179502947840",
       "version_major": 2,
       "version_minor": 0
      },
      "text/plain": [
       "HBox(children=(IntProgress(value=0, max=3), HTML(value='')))"
      ]
     },
     "metadata": {},
     "output_type": "display_data"
    },
    {
     "name": "stdout",
     "output_type": "stream",
     "text": [
      "\n"
     ]
    },
    {
     "data": {
      "application/vnd.jupyter.widget-view+json": {
       "model_id": "08f5cdfce6da4f2796cd0cf1ab53d647",
       "version_major": 2,
       "version_minor": 0
      },
      "text/plain": [
       "HBox(children=(IntProgress(value=0, max=3), HTML(value='')))"
      ]
     },
     "metadata": {},
     "output_type": "display_data"
    },
    {
     "name": "stdout",
     "output_type": "stream",
     "text": [
      "\n"
     ]
    },
    {
     "data": {
      "application/vnd.jupyter.widget-view+json": {
       "model_id": "2ec0b8b88a894d40a9900a853bac1b0e",
       "version_major": 2,
       "version_minor": 0
      },
      "text/plain": [
       "HBox(children=(IntProgress(value=0, max=3), HTML(value='')))"
      ]
     },
     "metadata": {},
     "output_type": "display_data"
    },
    {
     "name": "stdout",
     "output_type": "stream",
     "text": [
      "\n"
     ]
    },
    {
     "data": {
      "application/vnd.jupyter.widget-view+json": {
       "model_id": "29637c43213348a3812718f441525cb8",
       "version_major": 2,
       "version_minor": 0
      },
      "text/plain": [
       "HBox(children=(IntProgress(value=0, max=3), HTML(value='')))"
      ]
     },
     "metadata": {},
     "output_type": "display_data"
    },
    {
     "name": "stdout",
     "output_type": "stream",
     "text": [
      "\n",
      "Checking if Uncertainty Forest converges in 40 samples for Elliptical Gaussians.\n"
     ]
    },
    {
     "data": {
      "application/vnd.jupyter.widget-view+json": {
       "model_id": "4672d25c99154166bb6666dac79c7c94",
       "version_major": 2,
       "version_minor": 0
      },
      "text/plain": [
       "HBox(children=(IntProgress(value=0, max=3), HTML(value='')))"
      ]
     },
     "metadata": {},
     "output_type": "display_data"
    },
    {
     "name": "stdout",
     "output_type": "stream",
     "text": [
      "\n",
      "Checking if Uncertainty Forest converges in 80 samples for Elliptical Gaussians.\n"
     ]
    },
    {
     "data": {
      "application/vnd.jupyter.widget-view+json": {
       "model_id": "279ebc6767ef40bfb12999cc3450d1ef",
       "version_major": 2,
       "version_minor": 0
      },
      "text/plain": [
       "HBox(children=(IntProgress(value=0, max=3), HTML(value='')))"
      ]
     },
     "metadata": {},
     "output_type": "display_data"
    },
    {
     "name": "stdout",
     "output_type": "stream",
     "text": [
      "\n",
      "Checking if Uncertainty Forest converges in 160 samples for Elliptical Gaussians.\n"
     ]
    },
    {
     "data": {
      "application/vnd.jupyter.widget-view+json": {
       "model_id": "faa16074f0464535a14e9ce1598eeb09",
       "version_major": 2,
       "version_minor": 0
      },
      "text/plain": [
       "HBox(children=(IntProgress(value=0, max=3), HTML(value='')))"
      ]
     },
     "metadata": {},
     "output_type": "display_data"
    },
    {
     "name": "stdout",
     "output_type": "stream",
     "text": [
      "\n",
      "Running binary search.\n"
     ]
    },
    {
     "data": {
      "application/vnd.jupyter.widget-view+json": {
       "model_id": "f93dfab56f094f058bb309cc09da8ac4",
       "version_major": 2,
       "version_minor": 0
      },
      "text/plain": [
       "HBox(children=(IntProgress(value=0, max=3), HTML(value='')))"
      ]
     },
     "metadata": {},
     "output_type": "display_data"
    },
    {
     "name": "stdout",
     "output_type": "stream",
     "text": [
      "\n"
     ]
    },
    {
     "data": {
      "application/vnd.jupyter.widget-view+json": {
       "model_id": "f4add809885d42ffaa392aa579d6404a",
       "version_major": 2,
       "version_minor": 0
      },
      "text/plain": [
       "HBox(children=(IntProgress(value=0, max=3), HTML(value='')))"
      ]
     },
     "metadata": {},
     "output_type": "display_data"
    },
    {
     "name": "stdout",
     "output_type": "stream",
     "text": [
      "\n"
     ]
    },
    {
     "data": {
      "application/vnd.jupyter.widget-view+json": {
       "model_id": "b0fc352e2f0848fc8dec3dd887eb7f31",
       "version_major": 2,
       "version_minor": 0
      },
      "text/plain": [
       "HBox(children=(IntProgress(value=0, max=3), HTML(value='')))"
      ]
     },
     "metadata": {},
     "output_type": "display_data"
    },
    {
     "name": "stdout",
     "output_type": "stream",
     "text": [
      "\n"
     ]
    },
    {
     "data": {
      "application/vnd.jupyter.widget-view+json": {
       "model_id": "6abeec95e8bc4286b71ffabe702d68ea",
       "version_major": 2,
       "version_minor": 0
      },
      "text/plain": [
       "HBox(children=(IntProgress(value=0, max=3), HTML(value='')))"
      ]
     },
     "metadata": {},
     "output_type": "display_data"
    },
    {
     "name": "stdout",
     "output_type": "stream",
     "text": [
      "\n"
     ]
    },
    {
     "data": {
      "application/vnd.jupyter.widget-view+json": {
       "model_id": "10ce5f33369c4659b4be645dd070277e",
       "version_major": 2,
       "version_minor": 0
      },
      "text/plain": [
       "HBox(children=(IntProgress(value=0, max=3), HTML(value='')))"
      ]
     },
     "metadata": {},
     "output_type": "display_data"
    },
    {
     "name": "stdout",
     "output_type": "stream",
     "text": [
      "\n",
      "Checking if Mixed KSG converges in 40 samples for Elliptical Gaussians.\n"
     ]
    },
    {
     "data": {
      "application/vnd.jupyter.widget-view+json": {
       "model_id": "fc5edec11f7d499f9304957f2ab6890b",
       "version_major": 2,
       "version_minor": 0
      },
      "text/plain": [
       "HBox(children=(IntProgress(value=0, max=3), HTML(value='')))"
      ]
     },
     "metadata": {},
     "output_type": "display_data"
    },
    {
     "name": "stdout",
     "output_type": "stream",
     "text": [
      "\n",
      "Checking if Mixed KSG converges in 80 samples for Elliptical Gaussians.\n"
     ]
    },
    {
     "data": {
      "application/vnd.jupyter.widget-view+json": {
       "model_id": "246b4ef86d2d4a4ebc571c2fbb8102e5",
       "version_major": 2,
       "version_minor": 0
      },
      "text/plain": [
       "HBox(children=(IntProgress(value=0, max=3), HTML(value='')))"
      ]
     },
     "metadata": {},
     "output_type": "display_data"
    },
    {
     "name": "stdout",
     "output_type": "stream",
     "text": [
      "\n",
      "Checking if Mixed KSG converges in 160 samples for Elliptical Gaussians.\n"
     ]
    },
    {
     "data": {
      "application/vnd.jupyter.widget-view+json": {
       "model_id": "9ee1711761ff4e63a9bd7cb00455e74b",
       "version_major": 2,
       "version_minor": 0
      },
      "text/plain": [
       "HBox(children=(IntProgress(value=0, max=3), HTML(value='')))"
      ]
     },
     "metadata": {},
     "output_type": "display_data"
    },
    {
     "name": "stdout",
     "output_type": "stream",
     "text": [
      "\n",
      "Running binary search.\n"
     ]
    },
    {
     "data": {
      "application/vnd.jupyter.widget-view+json": {
       "model_id": "4e84fb6fa6bd46e7a1696f14e3ff6fff",
       "version_major": 2,
       "version_minor": 0
      },
      "text/plain": [
       "HBox(children=(IntProgress(value=0, max=3), HTML(value='')))"
      ]
     },
     "metadata": {},
     "output_type": "display_data"
    },
    {
     "name": "stdout",
     "output_type": "stream",
     "text": [
      "\n"
     ]
    },
    {
     "data": {
      "application/vnd.jupyter.widget-view+json": {
       "model_id": "df1644af08e34c9b936d4d6e62bb5818",
       "version_major": 2,
       "version_minor": 0
      },
      "text/plain": [
       "HBox(children=(IntProgress(value=0, max=3), HTML(value='')))"
      ]
     },
     "metadata": {},
     "output_type": "display_data"
    },
    {
     "name": "stdout",
     "output_type": "stream",
     "text": [
      "\n"
     ]
    },
    {
     "data": {
      "application/vnd.jupyter.widget-view+json": {
       "model_id": "206c053da5714735811a97145094d96b",
       "version_major": 2,
       "version_minor": 0
      },
      "text/plain": [
       "HBox(children=(IntProgress(value=0, max=3), HTML(value='')))"
      ]
     },
     "metadata": {},
     "output_type": "display_data"
    },
    {
     "name": "stdout",
     "output_type": "stream",
     "text": [
      "\n"
     ]
    },
    {
     "data": {
      "application/vnd.jupyter.widget-view+json": {
       "model_id": "49996c68def742779d05c243c65e5fdb",
       "version_major": 2,
       "version_minor": 0
      },
      "text/plain": [
       "HBox(children=(IntProgress(value=0, max=3), HTML(value='')))"
      ]
     },
     "metadata": {},
     "output_type": "display_data"
    },
    {
     "name": "stdout",
     "output_type": "stream",
     "text": [
      "\n"
     ]
    },
    {
     "data": {
      "application/vnd.jupyter.widget-view+json": {
       "model_id": "32dd4d9e1376440d8d15f58e67b9b7b3",
       "version_major": 2,
       "version_minor": 0
      },
      "text/plain": [
       "HBox(children=(IntProgress(value=0, max=3), HTML(value='')))"
      ]
     },
     "metadata": {},
     "output_type": "display_data"
    },
    {
     "name": "stdout",
     "output_type": "stream",
     "text": [
      "\n",
      "Checking if Uncertainty Forest converges in 40 samples for Elliptical Gaussians.\n"
     ]
    },
    {
     "data": {
      "application/vnd.jupyter.widget-view+json": {
       "model_id": "62c9ea98f4cf4b26b052bde6856031b1",
       "version_major": 2,
       "version_minor": 0
      },
      "text/plain": [
       "HBox(children=(IntProgress(value=0, max=3), HTML(value='')))"
      ]
     },
     "metadata": {},
     "output_type": "display_data"
    },
    {
     "name": "stdout",
     "output_type": "stream",
     "text": [
      "\n",
      "Checking if Uncertainty Forest converges in 80 samples for Elliptical Gaussians.\n"
     ]
    },
    {
     "data": {
      "application/vnd.jupyter.widget-view+json": {
       "model_id": "afd509848bd047fcb1506a9e99e83a8f",
       "version_major": 2,
       "version_minor": 0
      },
      "text/plain": [
       "HBox(children=(IntProgress(value=0, max=3), HTML(value='')))"
      ]
     },
     "metadata": {},
     "output_type": "display_data"
    },
    {
     "name": "stdout",
     "output_type": "stream",
     "text": [
      "\n",
      "Running binary search.\n"
     ]
    },
    {
     "data": {
      "application/vnd.jupyter.widget-view+json": {
       "model_id": "af21fffbc2d34ab5bd33a766b9004b7b",
       "version_major": 2,
       "version_minor": 0
      },
      "text/plain": [
       "HBox(children=(IntProgress(value=0, max=3), HTML(value='')))"
      ]
     },
     "metadata": {},
     "output_type": "display_data"
    },
    {
     "name": "stdout",
     "output_type": "stream",
     "text": [
      "\n"
     ]
    },
    {
     "data": {
      "application/vnd.jupyter.widget-view+json": {
       "model_id": "1130df0d47e04d8ea951bcbe5e581f48",
       "version_major": 2,
       "version_minor": 0
      },
      "text/plain": [
       "HBox(children=(IntProgress(value=0, max=3), HTML(value='')))"
      ]
     },
     "metadata": {},
     "output_type": "display_data"
    },
    {
     "name": "stdout",
     "output_type": "stream",
     "text": [
      "\n"
     ]
    },
    {
     "data": {
      "application/vnd.jupyter.widget-view+json": {
       "model_id": "4a7744a0726c493fb788ee12d40c638a",
       "version_major": 2,
       "version_minor": 0
      },
      "text/plain": [
       "HBox(children=(IntProgress(value=0, max=3), HTML(value='')))"
      ]
     },
     "metadata": {},
     "output_type": "display_data"
    },
    {
     "name": "stdout",
     "output_type": "stream",
     "text": [
      "\n"
     ]
    }
   ],
   "source": [
    "for setting in settings:\n",
    "    algos = mutual_info_by_d(alpha, scale, ds, frac_eval, algos, num_trials, setting, parallel = parallel)"
   ]
  },
  {
   "cell_type": "code",
   "execution_count": 28,
   "metadata": {},
   "outputs": [],
   "source": [
    "def plot_mutual_info_by_d(ds, setting, algos, ax, alpha):\n",
    "    for algo in algos:\n",
    "        # Plot the mean over trials as a solid line.\n",
    "        ax.plot(ds, \n",
    "                algo['mi_by_d_%s' % setting['filename']], \n",
    "                label = algo['label'], \n",
    "                linewidth = 2, \n",
    "                color = algo['color'])\n",
    "\n",
    "    ax.set_xlabel(\"Number of Dimensions\")\n",
    "    ax.set_ylabel(\"Sample Size\")\n",
    "    \n",
    "#     ax.set_ylim(bottom = -0.05)\n",
    "#     ax.set_ylim(top = 1.05)\n",
    "    ax.set_xlim(left = .95)\n",
    "    ax.set_xlim(right = np.max(ds) + 0.05)"
   ]
  },
  {
   "cell_type": "code",
   "execution_count": 29,
   "metadata": {},
   "outputs": [],
   "source": [
    "def plot_fig4(ds, algos, settings, alpha):\n",
    "    sns.set(font_scale = 1.4)\n",
    "    sns.set_style(\"ticks\")\n",
    "    plt.figure()\n",
    "    plt.rcParams[\"font.family\"] = \"sans-serif\"\n",
    "    fig, axes = plt.subplots(len(settings), 1, figsize = (5,20))\n",
    "\n",
    "    for s in range(len(settings)):\n",
    "        plot_mutual_info_by_d(ds, settings[s], algos, axes[s], alpha)\n",
    "\n",
    "    plt.yticks(fontsize = 20)\n",
    "    plt.xticks(fontsize = 20)\n",
    "    plt.tight_layout()\n",
    "    plt.savefig(\"fig4_d.pdf\")\n",
    "    plt.show()"
   ]
  },
  {
   "cell_type": "code",
   "execution_count": 30,
   "metadata": {},
   "outputs": [
    {
     "data": {
      "text/plain": [
       "<Figure size 432x288 with 0 Axes>"
      ]
     },
     "metadata": {},
     "output_type": "display_data"
    },
    {
     "data": {
      "image/png": "[encoded data removed]",
      "text/plain": [
       "<Figure size 360x1440 with 2 Axes>"
      ]
     },
     "metadata": {},
     "output_type": "display_data"
    }
   ],
   "source": [
    "plot_fig4(ds, algos, settings, alpha)"
   ]
  },
  {
   "cell_type": "code",
   "execution_count": null,
   "metadata": {},
   "outputs": [],
   "source": [
    "print(algos[0])"
   ]
  },
  {
   "cell_type": "code",
   "execution_count": null,
   "metadata": {},
   "outputs": [],
   "source": []
  }
 ],
 "metadata": {
  "kernelspec": {
   "display_name": "Python 3",
   "language": "python",
   "name": "python3"
  },
  "language_info": {
   "codemirror_mode": {
    "name": "ipython",
    "version": 3
   },
   "file_extension": ".py",
   "mimetype": "text/x-python",
   "name": "python",
   "nbconvert_exporter": "python",
   "pygments_lexer": "ipython3",
   "version": "3.7.4"
  }
 },
 "nbformat": 4,
 "nbformat_minor": 2
}
